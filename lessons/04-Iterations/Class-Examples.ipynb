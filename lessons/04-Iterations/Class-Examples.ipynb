{
 "cells": [
  {
   "cell_type": "code",
   "execution_count": 7,
   "metadata": {},
   "outputs": [
    {
     "name": "stdout",
     "output_type": "stream",
     "text": [
      "How many times should I say Hello? 4\n",
      "hello 1 times!\n",
      "hello 2 times!\n",
      "hello 3 times!\n",
      "hello 4 times!\n"
     ]
    }
   ],
   "source": [
    "# definite loop  \"times\" times.\n",
    "times = int(input(\"How many times should I say Hello? \"))\n",
    "counter = 1\n",
    "while counter <= times:\n",
    "    print(f\"hello {counter} times!\")\n",
    "    counter = counter + 1\n",
    "\n",
    "    "
   ]
  },
  {
   "cell_type": "code",
   "execution_count": 8,
   "metadata": {},
   "outputs": [
    {
     "name": "stdout",
     "output_type": "stream",
     "text": [
      "Enter your name: george\n",
      "george number of times 1\n",
      "Enter your name: bill\n",
      "bill number of times 2\n",
      "Enter your name: steve\n",
      "steve number of times 3\n",
      "Enter your name: sally\n",
      "sally number of times 4\n",
      "Enter your name: kim\n",
      "kim number of times 5\n",
      "Enter your name: mary\n",
      "mary number of times 6\n",
      "Enter your name: sarah\n",
      "sarah number of times 7\n",
      "Enter your name: Mike\n",
      "Mike number of times 8\n"
     ]
    }
   ],
   "source": [
    "# example of an indefinite loop\n",
    "counter = 1\n",
    "name = \"None\"\n",
    "while name != 'Mike':\n",
    "    name = input(\"Enter your name: \")\n",
    "    print(f\"{name} number of times {counter}\")\n",
    "    counter = counter+1\n",
    "    "
   ]
  },
  {
   "cell_type": "code",
   "execution_count": 9,
   "metadata": {},
   "outputs": [
    {
     "name": "stdout",
     "output_type": "stream",
     "text": [
      "Hello \n",
      "Hello \n",
      "Hello \n"
     ]
    }
   ],
   "source": [
    "for i in range(3):\n",
    "    print(\"Hello \")\n"
   ]
  },
  {
   "cell_type": "code",
   "execution_count": 13,
   "metadata": {},
   "outputs": [
    {
     "name": "stdout",
     "output_type": "stream",
     "text": [
      "Enter a number of times: 5\n",
      "hello 1 times!\n",
      "hello 2 times!\n",
      "hello 3 times!\n",
      "hello 4 times!\n",
      "hello 5 times!\n"
     ]
    }
   ],
   "source": [
    "times = int(input(\"Enter a number of times: \"))\n",
    "for i in range(times):\n",
    "    print(f\"hello {i+1} times!\")"
   ]
  },
  {
   "cell_type": "code",
   "execution_count": 15,
   "metadata": {},
   "outputs": [
    {
     "name": "stdout",
     "output_type": "stream",
     "text": [
      "0\n",
      "1\n",
      "2\n",
      "3\n",
      "4\n",
      "5\n"
     ]
    }
   ],
   "source": [
    "#definite loop \n",
    "for cheese in range(6):\n",
    "    print(cheese)"
   ]
  },
  {
   "cell_type": "code",
   "execution_count": 16,
   "metadata": {},
   "outputs": [
    {
     "name": "stdout",
     "output_type": "stream",
     "text": [
      "m\n",
      "i\n",
      "k\n",
      "e\n"
     ]
    }
   ],
   "source": [
    "for char in \"mike\":\n",
    "    print (char)"
   ]
  },
  {
   "cell_type": "code",
   "execution_count": 17,
   "metadata": {},
   "outputs": [
    {
     "name": "stdout",
     "output_type": "stream",
     "text": [
      "apples\n",
      "bananas\n",
      "cherries\n",
      "dikons\n"
     ]
    }
   ],
   "source": [
    "for fruit in ['apples', 'bananas', 'cherries', 'dikons']:\n",
    "    print(fruit)"
   ]
  },
  {
   "cell_type": "code",
   "execution_count": 20,
   "metadata": {},
   "outputs": [
    {
     "name": "stdout",
     "output_type": "stream",
     "text": [
      "Enter some text: There might not be that letter in here.\n",
      "Enter a letter: i\n",
      "I found i in There might not be that letter in here.!!!\n",
      "I found i in There might not be that letter in here.!!!\n"
     ]
    }
   ],
   "source": [
    "text = input(\"Enter some text: \")\n",
    "letter = input(\"Enter a letter: \")\n",
    "for ch in text:\n",
    "    if ch == letter:\n",
    "        print(f\"I found {ch} in {text}!!!\")\n",
    "        "
   ]
  },
  {
   "cell_type": "code",
   "execution_count": 24,
   "metadata": {},
   "outputs": [
    {
     "name": "stdout",
     "output_type": "stream",
     "text": [
      "Enter some text: I like programming in python but I am afraid of a python\n",
      "the word python appears 2 times.\n"
     ]
    }
   ],
   "source": [
    "pycount = 0\n",
    "text = input(\"Enter some text: \")\n",
    "for word in text.split():\n",
    "    if word == 'python':\n",
    "        pycount = pycount + 1\n",
    "    \n",
    "print(f\"the word python appears {pycount} times.\")"
   ]
  },
  {
   "cell_type": "code",
   "execution_count": 30,
   "metadata": {},
   "outputs": [
    {
     "name": "stdout",
     "output_type": "stream",
     "text": [
      "Enter your name, or type 'quit': mike\n",
      "Hey, mike, I did this 1 number of times.\n",
      "Enter your name, or type 'quit': bill\n",
      "Hey, bill, I did this 2 number of times.\n",
      "Enter your name, or type 'quit': mark\n",
      "Hey, mark, I did this 3 number of times.\n",
      "Too many times!\n"
     ]
    }
   ],
   "source": [
    "# indefinite loop with break\n",
    "max_times = 3\n",
    "times = 0\n",
    "while True:\n",
    "    name = input(\"Enter your name, or type 'quit': \")\n",
    "    if name == 'quit':\n",
    "        print(\"Quitting the loop...\")\n",
    "        break\n",
    "    times = times + 1\n",
    "    print(f\"Hey, {name}, I did this {times} number of times.\")\n",
    "    if times == max_times:\n",
    "        print(\"Too many times!\")\n",
    "        break        \n"
   ]
  },
  {
   "cell_type": "markdown",
   "metadata": {},
   "source": [
    "## End to End Example\n",
    "- 5 attempts for the password\n",
    "- On correct password, print: “Access Granted”, then end the program\n",
    "- On incorrect password “Invalid Password Attempt #” and give the user another try\n",
    "- after 5 attempts, print “You are locked out”. Then end the program\n",
    "\n",
    "\n",
    "input: password\n",
    "\n",
    "outputs:\n",
    "\n",
    "- Access Granted if the password matches the actual password\n",
    "- invalid password attempt # if password does not match actual password\n",
    "- you are locked out if I try this 5 times.\n",
    "\n",
    "steps:\n",
    "\n",
    "```\n",
    "repeat 5 times:\n",
    "    input password\n",
    "    if password equals swiss:\n",
    "        print access granted\n",
    "        stops loop\n",
    "    else\n",
    "        print invalid password attempt\n",
    "if 5 attempts then\n",
    "    print you are locked out\n",
    "```"
   ]
  },
  {
   "cell_type": "code",
   "execution_count": 44,
   "metadata": {},
   "outputs": [
    {
     "name": "stdout",
     "output_type": "stream",
     "text": [
      "Enter a password: adsuyh\n",
      "Invalid Password attempt 1\n",
      "Enter a password: swiss\n",
      "Access Granted\n"
     ]
    }
   ],
   "source": [
    "secret_password = 'swiss'\n",
    "for i in range(5):\n",
    "    password = input(\"Enter a password: \")\n",
    "    if password == secret_password:\n",
    "        print(\"Access Granted\")\n",
    "        break\n",
    "    else:\n",
    "        print(f\"Invalid Password attempt {i+1}\")\n",
    "if i+1==5: \n",
    "    print(\"You are locked out!!!\")"
   ]
  },
  {
   "cell_type": "code",
   "execution_count": 45,
   "metadata": {},
   "outputs": [
    {
     "name": "stdout",
     "output_type": "stream",
     "text": [
      "Enter a password: sdjh\n",
      "Invalid Password attempt 1\n",
      "Enter a password: sfad\n",
      "Invalid Password attempt 2\n",
      "Enter a password: \n",
      "Invalid Password attempt 3\n",
      "Enter a password: sdaf\n",
      "Invalid Password attempt 4\n",
      "Enter a password: sadf\n",
      "Invalid Password attempt 5\n",
      "You are locked out!!!\n"
     ]
    }
   ],
   "source": [
    "secret_password = 'swiss'\n",
    "for i in range(5):\n",
    "    password = input(\"Enter a password: \")\n",
    "    if password == secret_password:\n",
    "        print(\"Access Granted\")\n",
    "        break\n",
    "    else:\n",
    "        print(f\"Invalid Password attempt {i+1}\")\n",
    "else: \n",
    "    print(\"You are locked out!!!\")"
   ]
  },
  {
   "cell_type": "code",
   "execution_count": 48,
   "metadata": {},
   "outputs": [
    {
     "name": "stdout",
     "output_type": "stream",
     "text": [
      "Enter text: weak\n",
      "found a w!\n"
     ]
    }
   ],
   "source": [
    "text  = input(\"Enter text: \")\n",
    "for ch in text:\n",
    "    if ch == 'w':\n",
    "        print(\"found a w!\")\n",
    "        break\n",
    "else:\n",
    "    print(\"No w's\")"
   ]
  },
  {
   "cell_type": "code",
   "execution_count": null,
   "metadata": {},
   "outputs": [],
   "source": []
  }
 ],
 "metadata": {
  "kernelspec": {
   "display_name": "Python 3",
   "language": "python",
   "name": "python3"
  },
  "language_info": {
   "codemirror_mode": {
    "name": "ipython",
    "version": 3
   },
   "file_extension": ".py",
   "mimetype": "text/x-python",
   "name": "python",
   "nbconvert_exporter": "python",
   "pygments_lexer": "ipython3",
   "version": "3.7.6"
  }
 },
 "nbformat": 4,
 "nbformat_minor": 4
}
