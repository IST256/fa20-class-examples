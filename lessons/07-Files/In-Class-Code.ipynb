{
 "cells": [
  {
   "cell_type": "code",
   "execution_count": 17,
   "metadata": {},
   "outputs": [
    {
     "name": "stdout",
     "output_type": "stream",
     "text": [
      "Enter something to write to this file: soul!\n"
     ]
    }
   ],
   "source": [
    "filename = 'super-secret-stuff.txt'\n",
    "with open(filename,'a') as write_file:\n",
    "    text = input(\"Enter something to write to this file: \")\n",
    "    write_file.write(f\"{text}\\n\")\n",
    "    "
   ]
  },
  {
   "cell_type": "code",
   "execution_count": 18,
   "metadata": {},
   "outputs": [
    {
     "name": "stdout",
     "output_type": "stream",
     "text": [
      "Chicke\n",
      "soup\n",
      "4 da\n",
      "soul!\n",
      "\n"
     ]
    }
   ],
   "source": [
    "with open (filename,'r') as reading_file:\n",
    "    contents = reading_file.read()\n",
    "    \n",
    "print(contents)"
   ]
  },
  {
   "cell_type": "code",
   "execution_count": 20,
   "metadata": {},
   "outputs": [
    {
     "name": "stdout",
     "output_type": "stream",
     "text": [
      "Enter your new password: Mike\n",
      "Your password was saved correctly!\n"
     ]
    }
   ],
   "source": [
    "def write_password(your_password):\n",
    "    with open('password.txt','w') as f:\n",
    "        f.write(your_password)\n",
    "    return\n",
    "\n",
    "def read_password():\n",
    "    with open('password.txt','r') as f:\n",
    "        password = f.read()\n",
    "        return password\n",
    "    \n",
    "\n",
    "pw = input(\"Enter your new password: \")\n",
    "write_password(pw)\n",
    "if pw == read_password():\n",
    "    print(\"Your password was saved correctly!\")\n",
    "else:\n",
    "    print(\"Something went wrong\")\n",
    "        "
   ]
  },
  {
   "cell_type": "code",
   "execution_count": 22,
   "metadata": {},
   "outputs": [
    {
     "name": "stdout",
     "output_type": "stream",
     "text": [
      "Enter your password to continue: \n",
      "==> Mikeersfdv\n",
      "Authenticated\n"
     ]
    }
   ],
   "source": [
    "print(\"Enter your password to continue: \")\n",
    "pw = input(\"==> \")\n",
    "if pw == read_password():\n",
    "    print(\"Authenticated\")\n",
    "else:\n",
    "    print(\"Sorry bad password!\")"
   ]
  },
  {
   "cell_type": "code",
   "execution_count": 24,
   "metadata": {},
   "outputs": [
    {
     "name": "stdout",
     "output_type": "stream",
     "text": [
      "Mikeersfdv\n"
     ]
    },
    {
     "ename": "ValueError",
     "evalue": "I/O operation on closed file.",
     "output_type": "error",
     "traceback": [
      "\u001b[0;31m---------------------------------------------------------------------------\u001b[0m",
      "\u001b[0;31mValueError\u001b[0m                                Traceback (most recent call last)",
      "\u001b[0;32m<ipython-input-24-d2d4b35f6fb1>\u001b[0m in \u001b[0;36m<module>\u001b[0;34m\u001b[0m\n\u001b[1;32m      2\u001b[0m     \u001b[0;32mfor\u001b[0m \u001b[0mline\u001b[0m \u001b[0;32min\u001b[0m \u001b[0mf\u001b[0m\u001b[0;34m.\u001b[0m\u001b[0mreadlines\u001b[0m\u001b[0;34m(\u001b[0m\u001b[0;34m)\u001b[0m\u001b[0;34m:\u001b[0m\u001b[0;34m\u001b[0m\u001b[0;34m\u001b[0m\u001b[0m\n\u001b[1;32m      3\u001b[0m         \u001b[0mprint\u001b[0m\u001b[0;34m(\u001b[0m\u001b[0mline\u001b[0m\u001b[0;34m)\u001b[0m\u001b[0;34m\u001b[0m\u001b[0;34m\u001b[0m\u001b[0m\n\u001b[0;32m----> 4\u001b[0;31m \u001b[0mf\u001b[0m\u001b[0;34m.\u001b[0m\u001b[0mread\u001b[0m\u001b[0;34m(\u001b[0m\u001b[0;34m)\u001b[0m\u001b[0;34m\u001b[0m\u001b[0;34m\u001b[0m\u001b[0m\n\u001b[0m",
      "\u001b[0;31mValueError\u001b[0m: I/O operation on closed file."
     ]
    }
   ],
   "source": [
    "with open(\"password.txt\",\"r\") as f:\n",
    "    for line in f.readlines():\n",
    "        print(line)\n",
    "f.read()"
   ]
  },
  {
   "cell_type": "code",
   "execution_count": 25,
   "metadata": {},
   "outputs": [
    {
     "name": "stdout",
     "output_type": "stream",
     "text": [
      "Mikeersfdv\n"
     ]
    }
   ],
   "source": [
    "f = open(\"password.txt\",\"r\")\n",
    "for line in f.readlines():\n",
    "    print(line)\n",
    "f.close()"
   ]
  }
 ],
 "metadata": {
  "kernelspec": {
   "display_name": "Python 3",
   "language": "python",
   "name": "python3"
  },
  "language_info": {
   "codemirror_mode": {
    "name": "ipython",
    "version": 3
   },
   "file_extension": ".py",
   "mimetype": "text/x-python",
   "name": "python",
   "nbconvert_exporter": "python",
   "pygments_lexer": "ipython3",
   "version": "3.7.6"
  }
 },
 "nbformat": 4,
 "nbformat_minor": 4
}
