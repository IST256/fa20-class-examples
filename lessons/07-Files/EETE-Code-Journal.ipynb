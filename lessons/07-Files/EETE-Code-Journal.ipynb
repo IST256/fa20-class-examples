{
 "cells": [
  {
   "cell_type": "markdown",
   "metadata": {},
   "source": [
    "## Step 4: Problem Analysis Code Journal\n",
    "\n",
    "Write an algorithm to implement the sample run above, but now use your `isEmail()` function.\n",
    "\n",
    "Inputs: a command:\n",
    "\n",
    " n => new journal entry inputs: date, time (hrs), summary  \n",
    " l => list journal entries  \n",
    " t => add up time  \n",
    " q => quit  \n",
    "\n",
    "Outputs: depends on command\n",
    "\n",
    "Algorithm (Steps in Program):\n",
    "```\n",
    "new journal:\n",
    "- input date, time, hrs,\n",
    "- make row\n",
    "- append to file\n",
    "\n",
    "list journal\n",
    "- open file\n",
    "- read lines\n",
    "- print to screen \n",
    "\n",
    "add up time\n",
    "- open file\n",
    "- for each line in file\n",
    "- parse for hours, add up\n",
    "- print total\n",
    "\n",
    "```\n"
   ]
  },
  {
   "cell_type": "code",
   "execution_count": null,
   "metadata": {},
   "outputs": [],
   "source": []
  }
 ],
 "metadata": {
  "kernelspec": {
   "display_name": "Python 3",
   "language": "python",
   "name": "python3"
  },
  "language_info": {
   "codemirror_mode": {
    "name": "ipython",
    "version": 3
   },
   "file_extension": ".py",
   "mimetype": "text/x-python",
   "name": "python",
   "nbconvert_exporter": "python",
   "pygments_lexer": "ipython3",
   "version": "3.7.6"
  }
 },
 "nbformat": 4,
 "nbformat_minor": 4
}
