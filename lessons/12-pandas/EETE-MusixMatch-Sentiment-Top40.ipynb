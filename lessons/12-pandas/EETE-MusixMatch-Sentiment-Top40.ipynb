{
 "cells": [
  {
   "cell_type": "markdown",
   "metadata": {},
   "source": [
    "## ETEE Top 40 sentiment with musicmatch\n",
    "\n",
    "I got tried of trying to figure out which lyrics are positive, so I decided to automate it, by reading this!\n",
    "\n",
    "https://www.officialcharts.com/chart-news/the-official-top-40-biggest-songs-of-2020-so-far__29264/\n",
    "\n",
    "Then I got tired and bored with exploring the data by artist and sentiment so I used IPYwidgets interact!\n",
    "\n",
    "https://ipywidgets.readthedocs.io/en/latest/examples/Using%20Interact.html\n",
    "\n"
   ]
  },
  {
   "cell_type": "code",
   "execution_count": 1,
   "metadata": {},
   "outputs": [],
   "source": [
    "# Code from the Musixmatch homework!\n",
    "\n",
    "import requests \n",
    "\n",
    "azure_key = \"53ba259edc1a45ceb68251988a04fccc\"\n",
    "azure_endpoint = \"https://ist256-mafudge-text-analytics.cognitiveservices.azure.com/\"\n",
    "musixmatch_key = '1e14ccfa7dd803369fd09b3a1cdfaabf'\n",
    "\n",
    "\n",
    "def sentiment (text):\n",
    "    '''\n",
    "        returns the sentiment of the given text. up to you as to whether it returns just 'pos', 'neg', 'neutral' or more information \n",
    "    '''\n",
    "    header = { 'Ocp-Apim-Subscription-Key' : azure_key}\n",
    "    url = f'{azure_endpoint}text/analytics/v3.0/sentiment'\n",
    "    documents = {\"documents\": [ {\"id\": \"1\", \"text\": text } ] }\n",
    "\n",
    "    response = requests.post(url,headers=header, json=documents) # Make Request\n",
    "    entities = response.json() # de-serialize\n",
    "    return entities['documents'][0]['sentiment']\n",
    "\n",
    "def find_song(song_title, song_artist):\n",
    "    '''\n",
    "        get the closest matching song to title and artist using the track.search api call\n",
    "        return the first track\n",
    "    '''\n",
    "    url = \"http://api.musixmatch.com/ws/1.1/track.search\"\n",
    "    query_string = { 'q_artist' : song_artist,\n",
    "                    'q_track' : song_title,\n",
    "                    'apikey' : musixmatch_key }\n",
    "    response = requests.get(url, params = query_string)\n",
    "    #print(response.url)\n",
    "    data = response.json()\n",
    "    return data['message']['body']['track_list'][0]['track']\n",
    "    \n",
    "def get_lyrics(track_id):\n",
    "    '''\n",
    "        get the closest matching song to title and artist using the track.lyrics.get api call\n",
    "        return the lyrics as text string\n",
    "    '''        \n",
    "    url = \"http://api.musixmatch.com/ws/1.1/track.lyrics.get\"\n",
    "    query_string = { 'track_id' : track_id,\n",
    "                    'apikey' : musixmatch_key }\n",
    "    response = requests.get(url, params = query_string)\n",
    "    #print(response.url)\n",
    "    data = response.json()\n",
    "    return data['message']['body']['lyrics']\n",
    "\n"
   ]
  },
  {
   "cell_type": "code",
   "execution_count": 10,
   "metadata": {},
   "outputs": [
    {
     "name": "stdout",
     "output_type": "stream",
     "text": [
      "Yeah\n",
      "\n",
      "I've been tryna call\n",
      "I've been on my own for long enough\n",
      "Maybe you can show me how to love, maybe\n",
      "\n",
      "I'm going through withdrawals\n",
      "You don't even have to do too much\n",
      "You can turn me on with just a touch, baby\n",
      "\n",
      "I look around and\n",
      "Sin City's cold and empty (Oh)\n",
      "No one's around to judge me (Oh)\n",
      "I can't see clearly when you're gone\n",
      "\n",
      "...\n",
      "\n",
      "\n",
      "(1409618887796)\n",
      "negative\n"
     ]
    }
   ],
   "source": [
    "title = 'Blinding Lights'\n",
    "artist = 'weeknd'\n",
    "track = find_song(title, artist)\n",
    "lyrics = get_lyrics(track['track_id'])\n",
    "l = lyrics['lyrics_body'].replace('******* This Lyrics is NOT for Commercial use *******','')\n",
    "sent = sentiment(l)\n",
    "print(l)\n",
    "print (sent)"
   ]
  }
 ],
 "metadata": {
  "kernelspec": {
   "display_name": "Python 3",
   "language": "python",
   "name": "python3"
  },
  "language_info": {
   "codemirror_mode": {
    "name": "ipython",
    "version": 3
   },
   "file_extension": ".py",
   "mimetype": "text/x-python",
   "name": "python",
   "nbconvert_exporter": "python",
   "pygments_lexer": "ipython3",
   "version": "3.7.6"
  },
  "toc": {
   "base_numbering": 1,
   "nav_menu": {},
   "number_sections": false,
   "sideBar": false,
   "skip_h1_title": false,
   "title_cell": "Table of Contents",
   "title_sidebar": "Contents",
   "toc_cell": false,
   "toc_position": {},
   "toc_section_display": false,
   "toc_window_display": false
  }
 },
 "nbformat": 4,
 "nbformat_minor": 4
}
