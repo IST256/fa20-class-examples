{
 "cells": [
  {
   "cell_type": "markdown",
   "metadata": {},
   "source": [
    "# End-To-End Example: Zomato Map\n",
    "\n",
    "Let's import our zomato functions and then use folium to plot restaurants on a map.\n",
    "\n"
   ]
  },
  {
   "cell_type": "code",
   "execution_count": 1,
   "metadata": {},
   "outputs": [
    {
     "name": "stdout",
     "output_type": "stream",
     "text": [
      "importing Jupyter notebook from zomato.ipynb\n"
     ]
    }
   ],
   "source": [
    "import requests \n",
    "import pandas as pd\n",
    "import folium\n",
    "import import_ipynb\n",
    "import zomato as zomato\n",
    "from IPython.display import display, HTML\n",
    "from ipywidgets import interact, interactive, fixed, interact_manual\n",
    "import ipywidgets as widgets"
   ]
  },
  {
   "cell_type": "code",
   "execution_count": 2,
   "metadata": {},
   "outputs": [],
   "source": [
    "zomato_key = '5aee574594af0c43a13d8f5e81744b73'\n",
    "city_id = zomato.get_city_id(zomato_key, \"Syracuse, NY\")\n",
    "rests = zomato.get_restaurants(zomato_key, city_id)\n",
    "rests_df = pd.json_normalize(rests)"
   ]
  },
  {
   "cell_type": "code",
   "execution_count": 24,
   "metadata": {
    "scrolled": false
   },
   "outputs": [
    {
     "data": {
      "text/html": [
       "<h1>Syracuse-Area Restaurants</h1>"
      ],
      "text/plain": [
       "<IPython.core.display.HTML object>"
      ]
     },
     "metadata": {},
     "output_type": "display_data"
    },
    {
     "data": {
      "application/vnd.jupyter.widget-view+json": {
       "model_id": "4a116eb3884142bdb5042c7b5c0ade36",
       "version_major": 2,
       "version_minor": 0
      },
      "text/plain": [
       "interactive(children=(Text(value='', description='cuisine'), Output()), _dom_classes=('widget-interact',))"
      ]
     },
     "metadata": {},
     "output_type": "display_data"
    }
   ],
   "source": [
    "display(HTML(\"<h1>Syracuse-Area Restaurants</h1>\"))\n",
    "@interact(cuisine=\"\")\n",
    "def main(cuisine):\n",
    "    SYR = (43.0481, -76.1474)\n",
    "    rmap = folium.Map(location=SYR, zoom_start=10, width=800, height=600)\n",
    "    rests_filter = rests_df[ rests_df['restaurant.cuisines'].str.find(cuisine.title()) >=0 ]\n",
    "                    \n",
    "    for row in rests_filter.to_records():\n",
    "        coords = (float(row['restaurant.location.latitude']),float(row['restaurant.location.longitude']))\n",
    "        loc = f\"<p><b>{row['restaurant.name']}</b></p>\"\n",
    "        loc += f\"<p>({row['restaurant.cuisines']})</p>\"\n",
    "        marker = folium.Marker(location=coords, popup=loc,tooltip=loc)\n",
    "        rmap.add_child(marker)\n",
    "    display(rmap)"
   ]
  },
  {
   "cell_type": "code",
   "execution_count": null,
   "metadata": {},
   "outputs": [],
   "source": []
  }
 ],
 "metadata": {
  "kernelspec": {
   "display_name": "Python 3",
   "language": "python",
   "name": "python3"
  },
  "language_info": {
   "codemirror_mode": {
    "name": "ipython",
    "version": 3
   },
   "file_extension": ".py",
   "mimetype": "text/x-python",
   "name": "python",
   "nbconvert_exporter": "python",
   "pygments_lexer": "ipython3",
   "version": "3.7.6"
  }
 },
 "nbformat": 4,
 "nbformat_minor": 4
}
