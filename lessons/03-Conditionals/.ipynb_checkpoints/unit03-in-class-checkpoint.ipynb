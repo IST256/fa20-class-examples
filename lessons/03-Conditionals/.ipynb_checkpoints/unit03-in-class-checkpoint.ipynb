{
 "cells": [
  {
   "cell_type": "code",
   "execution_count": 5,
   "metadata": {},
   "outputs": [
    {
     "name": "stdout",
     "output_type": "stream",
     "text": [
      "Enter the quantity of milk in the fridge: 0.5\n",
      "Milk is getting low! at 0.5 gallons\n",
      "Go to the store ASAP!\n",
      "Done!\n"
     ]
    }
   ],
   "source": [
    "milk = float(input(\"Enter the quantity of milk in the fridge: \"))\n",
    "if milk < 0.75:\n",
    "    print(f\"Milk is getting low! at {milk} gallons\")\n",
    "    print(\"Go to the store ASAP!\")\n",
    "else:\n",
    "    print(f\"You have {milk} gallons remaining\")\n",
    "\n",
    "print(\"Done!\")"
   ]
  },
  {
   "cell_type": "code",
   "execution_count": 9,
   "metadata": {},
   "outputs": [
    {
     "name": "stdout",
     "output_type": "stream",
     "text": [
      "Enter the quantity of milk in the fridge: 0.25\n",
      "Are you out of Lucky Charms [yes/no]? yes\n",
      "Go to the store ASAP!!! 911 !!! Emergency!\n"
     ]
    }
   ],
   "source": [
    "milk = float(input(\"Enter the quantity of milk in the fridge: \"))\n",
    "cereal = input(\"Are you out of Lucky Charms [yes/no]? \")\n",
    "if milk < 0.75 and cereal == 'yes':\n",
    "    print(\"Go to the store ASAP!!! 911 !!! Emergency!\")\n"
   ]
  },
  {
   "cell_type": "code",
   "execution_count": 11,
   "metadata": {},
   "outputs": [
    {
     "name": "stdout",
     "output_type": "stream",
     "text": [
      "Enter the quantity of milk in the fridge: 0\n",
      "Are you out of Lucky Charms [yes/no]? no\n",
      "Go to the store ASAP!!! 911 !!! Emergency!\n"
     ]
    }
   ],
   "source": [
    "milk = float(input(\"Enter the quantity of milk in the fridge: \"))\n",
    "cereal = input(\"Are you out of Lucky Charms [yes/no]? \")\n",
    "if milk < 0.75 or cereal == 'yes':\n",
    "    print(\"Go to the store ASAP!!! 911 !!! Emergency!\")\n"
   ]
  },
  {
   "cell_type": "code",
   "execution_count": 22,
   "metadata": {},
   "outputs": [
    {
     "name": "stdout",
     "output_type": "stream",
     "text": [
      "Who is the Chancellor of SU? \n",
      "A. Mike\n",
      "B. Kent\n",
      "C. Mary\n",
      "Enter your Choice A,B, or C: C\n",
      "Mary is not the chancellor\n"
     ]
    }
   ],
   "source": [
    "print(\"Who is the Chancellor of SU? \")\n",
    "print(\"A. Mike\")\n",
    "print(\"B. Kent\")\n",
    "print(\"C. Mary\")\n",
    "choice = input(\"Enter your Choice A,B, or C: \")\n",
    "if choice in ['A','a']:\n",
    "    print(\"Mike wishes he was chancellor\")\n",
    "elif choice == 'B' or choice == 'b':\n",
    "    print(\"Kent is the chancellor\")\n",
    "elif choice == 'C':\n",
    "    print(\"Mary is not the chancellor\")\n",
    "else:\n",
    "    print(\"You obviously cannot follow directions\")\n",
    "    \n",
    "    "
   ]
  },
  {
   "cell_type": "markdown",
   "metadata": {},
   "source": [
    "Inputs:\n",
    "\n",
    "- dependents integer pref values >=0\n",
    "- annual gross pay\n",
    "\n",
    "Outputs:\n",
    "\n",
    "- Your tax rate (based on # of dependents)\n",
    "- Your tax which is tax rate x gross pay\n",
    "- Your net pay which subtracts out the tax\n",
    "\n",
    "Algorithm\n",
    "\n",
    "1. input dependents (as int)\n",
    "2. input gross pay (as float)\n",
    "3. if deps is equal to 0 then tax rate is .3\n",
    "4. else if deps is equal to 1 then tax rate is .25\n",
    "5. else if deps is equaly to 2 then tax rate is .18\n",
    "6. else tax rate is .1\n",
    "7. tax = gross pay * tax rate\n",
    "8. net pay = gross pay - tax\n",
    "9. print stuff\n"
   ]
  },
  {
   "cell_type": "code",
   "execution_count": 38,
   "metadata": {},
   "outputs": [
    {
     "name": "stdout",
     "output_type": "stream",
     "text": [
      "Enter number of dependents: dgsfnjkhgljksdfhgk\n"
     ]
    },
    {
     "ename": "ValueError",
     "evalue": "invalid literal for int() with base 10: 'dgsfnjkhgljksdfhgk'",
     "output_type": "error",
     "traceback": [
      "\u001b[0;31m---------------------------------------------------------------------------\u001b[0m",
      "\u001b[0;31mValueError\u001b[0m                                Traceback (most recent call last)",
      "\u001b[0;32m<ipython-input-38-0264788e2b3d>\u001b[0m in \u001b[0;36m<module>\u001b[0;34m\u001b[0m\n\u001b[0;32m----> 1\u001b[0;31m \u001b[0mdeps\u001b[0m \u001b[0;34m=\u001b[0m \u001b[0mint\u001b[0m\u001b[0;34m(\u001b[0m\u001b[0minput\u001b[0m\u001b[0;34m(\u001b[0m\u001b[0;34m\"Enter number of dependents: \"\u001b[0m\u001b[0;34m)\u001b[0m\u001b[0;34m)\u001b[0m\u001b[0;34m\u001b[0m\u001b[0;34m\u001b[0m\u001b[0m\n\u001b[0m\u001b[1;32m      2\u001b[0m \u001b[0mgross\u001b[0m \u001b[0;34m=\u001b[0m \u001b[0mfloat\u001b[0m\u001b[0;34m(\u001b[0m\u001b[0minput\u001b[0m\u001b[0;34m(\u001b[0m\u001b[0;34m\"Enter your Annual Gross Pay: \"\u001b[0m\u001b[0;34m)\u001b[0m\u001b[0;34m)\u001b[0m\u001b[0;34m\u001b[0m\u001b[0;34m\u001b[0m\u001b[0m\n\u001b[1;32m      3\u001b[0m \u001b[0;32mif\u001b[0m \u001b[0mdeps\u001b[0m \u001b[0;34m==\u001b[0m \u001b[0;36m0\u001b[0m\u001b[0;34m:\u001b[0m\u001b[0;34m\u001b[0m\u001b[0;34m\u001b[0m\u001b[0m\n\u001b[1;32m      4\u001b[0m     \u001b[0mtax_rate\u001b[0m \u001b[0;34m=\u001b[0m \u001b[0;36m0.3\u001b[0m\u001b[0;34m\u001b[0m\u001b[0;34m\u001b[0m\u001b[0m\n\u001b[1;32m      5\u001b[0m \u001b[0;32melif\u001b[0m \u001b[0mdeps\u001b[0m \u001b[0;34m==\u001b[0m \u001b[0;36m1\u001b[0m\u001b[0;34m:\u001b[0m\u001b[0;34m\u001b[0m\u001b[0;34m\u001b[0m\u001b[0m\n",
      "\u001b[0;31mValueError\u001b[0m: invalid literal for int() with base 10: 'dgsfnjkhgljksdfhgk'"
     ]
    }
   ],
   "source": [
    "deps = int(input(\"Enter number of dependents: \"))\n",
    "gross = float(input(\"Enter your Annual Gross Pay: \"))\n",
    "if deps == 0:\n",
    "    tax_rate = 0.3\n",
    "elif deps == 1:\n",
    "    tax_rate = 0.25\n",
    "elif deps == 2:\n",
    "    tax_rate = 0.18\n",
    "else:\n",
    "    tax_rate = 0.1\n",
    "tax = gross * tax_rate\n",
    "net_pay = gross - tax\n",
    "print(f\"For {deps} dependents your tax rate is {tax_rate:.2f}\")\n",
    "print(f\"Your Tax $ {tax:.2f}\")\n",
    "print(f\"Net Pay: $ {net_pay:.2f}\")"
   ]
  },
  {
   "cell_type": "code",
   "execution_count": 42,
   "metadata": {},
   "outputs": [
    {
     "name": "stdout",
     "output_type": "stream",
     "text": [
      "Enter your age: 60\n"
     ]
    },
    {
     "ename": "NameError",
     "evalue": "name 'd' is not defined",
     "output_type": "error",
     "traceback": [
      "\u001b[0;31m---------------------------------------------------------------------------\u001b[0m",
      "\u001b[0;31mNameError\u001b[0m                                 Traceback (most recent call last)",
      "\u001b[0;32m<ipython-input-42-c07a8f28ba39>\u001b[0m in \u001b[0;36m<module>\u001b[0;34m\u001b[0m\n\u001b[1;32m      4\u001b[0m         \u001b[0mprint\u001b[0m\u001b[0;34m(\u001b[0m\u001b[0;34m\"You are minor\"\u001b[0m\u001b[0;34m)\u001b[0m\u001b[0;34m\u001b[0m\u001b[0;34m\u001b[0m\u001b[0m\n\u001b[1;32m      5\u001b[0m     \u001b[0;32melse\u001b[0m\u001b[0;34m:\u001b[0m\u001b[0;34m\u001b[0m\u001b[0;34m\u001b[0m\u001b[0m\n\u001b[0;32m----> 6\u001b[0;31m         \u001b[0mprint\u001b[0m\u001b[0;34m(\u001b[0m\u001b[0;34mf\"You are not a minor {d}\"\u001b[0m\u001b[0;34m)\u001b[0m\u001b[0;34m\u001b[0m\u001b[0;34m\u001b[0m\u001b[0m\n\u001b[0m\u001b[1;32m      7\u001b[0m \u001b[0;32mexcept\u001b[0m \u001b[0mValueError\u001b[0m\u001b[0;34m:\u001b[0m\u001b[0;34m\u001b[0m\u001b[0;34m\u001b[0m\u001b[0m\n\u001b[1;32m      8\u001b[0m     \u001b[0mprint\u001b[0m\u001b[0;34m(\u001b[0m\u001b[0;34m\"That ain't a numba!\"\u001b[0m\u001b[0;34m)\u001b[0m\u001b[0;34m\u001b[0m\u001b[0;34m\u001b[0m\u001b[0m\n",
      "\u001b[0;31mNameError\u001b[0m: name 'd' is not defined"
     ]
    }
   ],
   "source": [
    "try:\n",
    "    age = int(input(\"Enter your age: \"))\n",
    "    if age <20:\n",
    "        print(\"You are minor\")\n",
    "    else:\n",
    "        print(f\"You are not a minor {d}\")\n",
    "except ValueError:\n",
    "    print(\"That ain't a numba!\")"
   ]
  },
  {
   "cell_type": "code",
   "execution_count": 43,
   "metadata": {},
   "outputs": [
    {
     "name": "stdout",
     "output_type": "stream",
     "text": [
      "Enter your age: 60\n",
      "That ain't a numba!\n"
     ]
    }
   ],
   "source": [
    "#\n",
    "# DO NOT DO THIS!!!!!!!\n",
    "#\n",
    "try:\n",
    "    age = int(input(\"Enter your age: \"))\n",
    "    if age <20:\n",
    "        print(\"You are minor\")\n",
    "    else:\n",
    "        print(f\"You are not a minor {d}\")\n",
    "except:\n",
    "    print(\"That ain't a numba!\")"
   ]
  },
  {
   "cell_type": "code",
   "execution_count": 49,
   "metadata": {},
   "outputs": [
    {
     "name": "stdout",
     "output_type": "stream",
     "text": [
      "Enter your age: hjsdgafkhjsd\n",
      "That ain't a numba!\n",
      "This is over!\n"
     ]
    }
   ],
   "source": [
    "#\n",
    "# DO THIS!!!!!!!\n",
    "#\n",
    "try:\n",
    "    age = int(input(\"Enter your age: \"))\n",
    "    if age <20:\n",
    "        print(\"You are minor\")\n",
    "    else:\n",
    "        print(f\"You are not a minor at age {age}\")\n",
    "except ValueError:\n",
    "    print(\"That ain't a numba!\")\n"
   ]
  },
  {
   "cell_type": "code",
   "execution_count": 63,
   "metadata": {},
   "outputs": [
    {
     "name": "stdout",
     "output_type": "stream",
     "text": [
      "Enter number of dependents: 0\n",
      "Enter your Annual Gross Pay: 100\n",
      "For 0 dependents your tax rate is 0.30\n",
      "Your Tax $ 30.00\n",
      "Net Pay: $ 70.00\n",
      "10\n"
     ]
    }
   ],
   "source": [
    "deps =-1\n",
    "gross = -1\n",
    "try:\n",
    "    deps = int(input(\"Enter number of dependents: \"))    \n",
    "except ValueError:\n",
    "    print(\"Invalid Number of Dependents\")\n",
    "    \n",
    "try:\n",
    "    gross = float(input(\"Enter your Annual Gross Pay: \"))\n",
    "except ValueError:\n",
    "    print(\"Invalid Gross Pay!\")\n",
    "\n",
    "if deps >=0 and gross>=0:\n",
    "    if deps == 0:\n",
    "        tax_rate = 0.3\n",
    "    elif deps == 1:\n",
    "        tax_rate = 0.25\n",
    "    elif deps == 2:\n",
    "        tax_rate = 0.18\n",
    "    else:\n",
    "        tax_rate = 0.1\n",
    "    tax = gross * tax_rate\n",
    "    net_pay = gross - tax\n",
    "    print(f\"For {deps} dependents your tax rate is {tax_rate:.2f}\")\n",
    "    print(f\"Your Tax $ {tax:.2f}\")\n",
    "    print(f\"Net Pay: $ {net_pay:.2f}\")\n",
    "else:\n",
    "    print(\"This program could not run due to bad inputs:\")"
   ]
  },
  {
   "cell_type": "code",
   "execution_count": 64,
   "metadata": {},
   "outputs": [
    {
     "data": {
      "text/plain": [
       "False"
      ]
     },
     "execution_count": 64,
     "metadata": {},
     "output_type": "execute_result"
    }
   ],
   "source": [
    "x = 12\n",
    "y = 20\n",
    "x < y and not y==20"
   ]
  },
  {
   "cell_type": "code",
   "execution_count": 65,
   "metadata": {},
   "outputs": [
    {
     "data": {
      "text/plain": [
       "True"
      ]
     },
     "execution_count": 65,
     "metadata": {},
     "output_type": "execute_result"
    }
   ],
   "source": [
    "x < y"
   ]
  },
  {
   "cell_type": "code",
   "execution_count": 66,
   "metadata": {},
   "outputs": [
    {
     "data": {
      "text/plain": [
       "True"
      ]
     },
     "execution_count": 66,
     "metadata": {},
     "output_type": "execute_result"
    }
   ],
   "source": [
    "y == 20"
   ]
  },
  {
   "cell_type": "code",
   "execution_count": 67,
   "metadata": {},
   "outputs": [
    {
     "data": {
      "text/plain": [
       "False"
      ]
     },
     "execution_count": 67,
     "metadata": {},
     "output_type": "execute_result"
    }
   ],
   "source": [
    "not y == 20"
   ]
  },
  {
   "cell_type": "code",
   "execution_count": 68,
   "metadata": {},
   "outputs": [
    {
     "data": {
      "text/plain": [
       "False"
      ]
     },
     "execution_count": 68,
     "metadata": {},
     "output_type": "execute_result"
    }
   ],
   "source": [
    "True and False"
   ]
  },
  {
   "cell_type": "code",
   "execution_count": null,
   "metadata": {},
   "outputs": [],
   "source": []
  }
 ],
 "metadata": {
  "kernelspec": {
   "display_name": "Python 3",
   "language": "python",
   "name": "python3"
  },
  "language_info": {
   "codemirror_mode": {
    "name": "ipython",
    "version": 3
   },
   "file_extension": ".py",
   "mimetype": "text/x-python",
   "name": "python",
   "nbconvert_exporter": "python",
   "pygments_lexer": "ipython3",
   "version": "3.7.6"
  }
 },
 "nbformat": 4,
 "nbformat_minor": 4
}
