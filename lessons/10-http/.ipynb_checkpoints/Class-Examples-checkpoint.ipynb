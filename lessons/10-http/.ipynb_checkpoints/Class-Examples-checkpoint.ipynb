{
 "cells": [
  {
   "cell_type": "code",
   "execution_count": 1,
   "metadata": {},
   "outputs": [],
   "source": [
    "import requests"
   ]
  },
  {
   "cell_type": "code",
   "execution_count": 4,
   "metadata": {},
   "outputs": [],
   "source": [
    "response  = requests.get(\"https://www.syr.edu\")"
   ]
  },
  {
   "cell_type": "code",
   "execution_count": 6,
   "metadata": {},
   "outputs": [
    {
     "data": {
      "text/plain": [
       "200"
      ]
     },
     "execution_count": 6,
     "metadata": {},
     "output_type": "execute_result"
    }
   ],
   "source": [
    "response.status_code"
   ]
  },
  {
   "cell_type": "code",
   "execution_count": 7,
   "metadata": {},
   "outputs": [
    {
     "data": {
      "text/plain": [
       "410"
      ]
     },
     "execution_count": 7,
     "metadata": {},
     "output_type": "execute_result"
    }
   ],
   "source": [
    "another_response = requests.get(\"https://www.syr.edu/mikeisawesome\")\n",
    "another_response.status_code\n",
    "                                "
   ]
  },
  {
   "cell_type": "code",
   "execution_count": 8,
   "metadata": {},
   "outputs": [
    {
     "data": {
      "text/plain": [
       "'<!DOCTYPE html>\\n<html lang=\"en-US\" prefix=\"og: http://ogp.me/ns#\">\\n<head>\\n<meta charset=\"UTF-8\">\\n<title>Syracuse University - Syracuse.edu</title>\\n<meta name=\"viewport\" content=\"width=device-width, initial-scale=1, viewport-fit=cover\">\\n<link rel=\"profile\" href=\"http://gmpg.org/xfn/11\">\\n<meta name=\"apple-mobile-web-app-title\" content=\"Syracuse.edu\">\\n<link rel=\"manifest\" href=\"https://www.syracuse.edu/wp-content/themes/g6-carbon/manifest.json\">\\n<link rel=\"apple-touch-icon\" href=\"https://www.syracuse.edu/wp-content/themes/g6-carbon/img/favicons/apple-touch-icon.png\">\\n<link rel=\"mask-icon\" href=\"https://www.syracuse.edu/wp-content/themes/g6-carbon/img/favicons/favicon-16.svg\" color=\"#F76900\">\\n<link rel=\"icon\" type=\"image/png\" sizes=\"16x16\" href=\"https://www.syracuse.edu/wp-content/themes/g6-carbon/img/favicons/favicon-16.png\">\\n<link rel=\"icon\" type=\"image/png\" sizes=\"32x32\" href=\"https://www.syracuse.edu/wp-content/themes/g6-carbon/img/favicons/favicon-32.png\">\\n<link rel=\"icon\" type=\"image/png\" sizes=\"96x96\" href=\"https://www.syracuse.edu/wp-content/themes/g6-carbon/img/favicons/favicon-96.png\">\\n<link rel=\"icon\" type=\"image/png\" sizes=\"144x144\" href=\"https://www.syracuse.edu/wp-content/themes/g6-carbon/img/favicons/favicon-144.png\">\\n<link rel=\"icon\" type=\"image/png\" sizes=\"192x192\" href=\"https://www.syracuse.edu/wp-content/themes/g6-carbon/img/favicons/favicon-192.png\">\\n\\n    <script type=\"application/ld+json\">\\n    \\t{\\n    \\t\\t\"@context\": \"https://schema.org\",\\n    \\t\\t\"@graph\": [{\\n    \\t\\t\\t\"@type\": \"EducationalOrganization\",\\n    \\t\\t\\t\"name\": \"Syracuse University\",\\n    \\t\\t\\t\"foundingDate\": \"1870\",\\n    \\t\\t\\t\"url\": \"https://www.syracuse.edu/\",\\n    \\t\\t\\t\"logo\": \"https://www.syracuse.edu/wp-content/themes/g6-carbon/img/favicons/og-image.png\",\\n    \\t\\t\\t\"sameAs\": [\\n    \\t\\t\\t\\t\"https://en.wikipedia.org/wiki/Syracuse_University\",\\n    \\t\\t\\t\\t\"https://twitter.com/SyracuseU\",\\n    \\t\\t\\t\\t\"https://www.facebook.com/syracuseuniversity/\",\\n    \\t\\t\\t\\t\"https://www.instagram.com/syracuseu/\",\\n    \\t\\t\\t\\t\"https://www.youtube.com/user/Syracuse\"\\n    \\t\\t\\t],\\n    \\t\\t\\t\"address\": {\\n    \\t\\t\\t\\t\"@type\": \"PostalAddress\",\\n    \\t\\t\\t\\t\"streetAddress\": \"900 South Crouse Ave.\",\\n    \\t\\t\\t\\t\"addressLocality\": \"Syracuse\",\\n    \\t\\t\\t\\t\"addressRegion\": \"NY\",\\n    \\t\\t\\t\\t\"postalCode\": \"13244\",\\n    \\t\\t\\t\\t\"addressCountry\": \"USA\"\\n    \\t\\t\\t},\\n    \\t\\t\\t\"contactPoint\": {\\n    \\t\\t\\t\\t\"@type\": \"ContactPoint\",\\n    \\t\\t\\t\\t\"telephone\": \"+1-315-443-1870\",\\n    \\t\\t\\t\\t\"contactType\": \"customer service\"\\n    \\t\\t\\t}\\n    \\t\\t}, {\\n    \\t\\t\\t\"@type\": \"WebSite\",\\n    \\t\\t\\t\"url\": \"https://www.syracuse.edu/\",\\n    \\t\\t\\t\"name\": \"Syracuse University\",\\n    \\t\\t\\t\"potentialAction\": {\\n    \\t\\t\\t\\t\"@type\": \"SearchAction\",\\n    \\t\\t\\t\\t\"target\": \"https://www.syracuse.edu/search/?q={search_term_string}\",\\n    \\t\\t\\t\\t\"query-input\": \"required name=search_term_string\"\\n    \\t\\t\\t}\\n    \\t\\t}]\\n    \\t}\\n    </script>\\n\\t\\t\\n      <meta name=\"description\" content=\"Syracuse University, founded in 1870 and comprised of thirteen schools and colleges, is a private research university in the heart of New York State.\" />\\n      <meta name=\"twitter:card\" content=\"summary\" />\\n      <meta name=\"twitter:site\" content=\"@syracuseu\" />\\n      <meta property=\"og:url\" content=\"https://www.syracuse.edu/\" />\\n      <meta property=\"og:title\" content=\"Syracuse University\" />\\n      <meta property=\"og:description\" content=\"Syracuse University, founded in 1870 and comprised of thirteen schools and colleges, is a private research university in the heart of New York State.\" />\\n      <meta property=\"og:image\" content=\"https://www.syracuse.edu/wp-content/uploads/alison-patteson-feature-1600x1067.jpg\" />\\n      <meta name=\"twitter:image:alt\" content=\"Professor Alison Patteson looks at a sample under a microscope in a laboratory.\" />\\n    <!-- Google Tag Manager -->\\n<script>(function(w,d,s,l,i){w[l]=w[l]||[];w[l].push({\\'gtm.start\\':\\nnew Date().getTime(),event:\\'gtm.js\\'});var f=d.getElementsByTagName(s)[0],\\nj=d.createElement(s),dl=l!=\\'dataLayer\\'?\\'&l=\\'+l:\\'\\';j.async=true;j.src=\\n\\'https://www.googletagmanager.com/gtm.js?id=\\'+i+dl;f.parentNode.insertBefore(j,f);\\n})(window,document,\\'script\\',\\'dataLayer\\',\\'GTM-5FC97GL\\');</script>\\n<!-- End Google Tag Manager -->\\n<link rel=\\'dns-prefetch\\' href=\\'//www.google.com\\' />\\n<link rel=\\'dns-prefetch\\' href=\\'//ajax.googleapis.com\\' />\\n<link rel=\\'dns-prefetch\\' href=\\'//cse.google.com\\' />\\n<link rel=\\'dns-prefetch\\' href=\\'//s.w.org\\' />\\n\\t\\t<script type=\"text/javascript\">\\n\\t\\t\\twindow._wpemojiSettings = {\"baseUrl\":\"https:\\\\/\\\\/s.w.org\\\\/images\\\\/core\\\\/emoji\\\\/12.0.0-1\\\\/72x72\\\\/\",\"ext\":\".png\",\"svgUrl\":\"https:\\\\/\\\\/s.w.org\\\\/images\\\\/core\\\\/emoji\\\\/12.0.0-1\\\\/svg\\\\/\",\"svgExt\":\".svg\",\"source\":{\"concatemoji\":\"https:\\\\/\\\\/www.syracuse.edu\\\\/wp-includes\\\\/js\\\\/wp-emoji-release.min.js?ver=6fab213413fc03dc685376fcc7d81001\"}};\\n\\t\\t\\t/*! This file is auto-generated */\\n\\t\\t\\t!function(e,a,t){var r,n,o,i,p=a.createElement(\"canvas\"),s=p.getContext&&p.getContext(\"2d\");function c(e,t){var a=String.fromCharCode;s.clearRect(0,0,p.width,p.height),s.fillText(a.apply(this,e),0,0);var r=p.toDataURL();return s.clearRect(0,0,p.width,p.height),s.fillText(a.apply(this,t),0,0),r===p.toDataURL()}function l(e){if(!s||!s.fillText)return!1;switch(s.textBaseline=\"top\",s.font=\"600 32px Arial\",e){case\"flag\":return!c([127987,65039,8205,9895,65039],[127987,65039,8203,9895,65039])&&(!c([55356,56826,55356,56819],[55356,56826,8203,55356,56819])&&!c([55356,57332,56128,56423,56128,56418,56128,56421,56128,56430,56128,56423,56128,56447],[55356,57332,8203,56128,56423,8203,56128,56418,8203,56128,56421,8203,56128,56430,8203,56128,56423,8203,56128,56447]));case\"emoji\":return!c([55357,56424,55356,57342,8205,55358,56605,8205,55357,56424,55356,57340],[55357,56424,55356,57342,8203,55358,56605,8203,55357,56424,55356,57340])}return!1}function d(e){var t=a.createElement(\"script\");t.src=e,t.defer=t.type=\"text/javascript\",a.getElementsByTagName(\"head\")[0].appendChild(t)}for(i=Array(\"flag\",\"emoji\"),t.supports={everything:!0,everythingExceptFlag:!0},o=0;o<i.length;o++)t.supports[i[o]]=l(i[o]),t.supports.everything=t.supports.everything&&t.supports[i[o]],\"flag\"!==i[o]&&(t.supports.everythingExceptFlag=t.supports.everythingExceptFlag&&t.supports[i[o]]);t.supports.everythingExceptFlag=t.supports.everythingExceptFlag&&!t.supports.flag,t.DOMReady=!1,t.readyCallback=function(){t.DOMReady=!0},t.supports.everything||(n=function(){t.readyCallback()},a.addEventListener?(a.addEventListener(\"DOMContentLoaded\",n,!1),e.addEventListener(\"load\",n,!1)):(e.attachEvent(\"onload\",n),a.attachEvent(\"onreadystatechange\",function(){\"complete\"===a.readyState&&t.readyCallback()})),(r=t.source||{}).concatemoji?d(r.concatemoji):r.wpemoji&&r.twemoji&&(d(r.twemoji),d(r.wpemoji)))}(window,document,window._wpemojiSettings);\\n\\t\\t</script>\\n\\t\\t<style type=\"text/css\">\\nimg.wp-smiley,\\nimg.emoji {\\n\\tdisplay: inline !important;\\n\\tborder: none !important;\\n\\tbox-shadow: none !important;\\n\\theight: 1em !important;\\n\\twidth: 1em !important;\\n\\tmargin: 0 .07em !important;\\n\\tvertical-align: -0.1em !important;\\n\\tbackground: none !important;\\n\\tpadding: 0 !important;\\n}\\n</style>\\n\\t<link rel=\\'stylesheet\\' id=\\'wp-block-library-css\\'  href=\\'https://www.syracuse.edu/wp-includes/css/dist/block-library/style.min.css?ver=6fab213413fc03dc685376fcc7d81001\\' type=\\'text/css\\' media=\\'all\\' />\\n<link rel=\\'stylesheet\\' id=\\'g6-carbon-style-css-css\\'  href=\\'https://www.syracuse.edu/wp-content/themes/g6-carbon/style.css?ver=6.5.17-1597763086706\\' type=\\'text/css\\' media=\\'all\\' />\\n<link rel=\\'stylesheet\\' id=\\'g6-carbon-style-homepage-css\\'  href=\\'https://www.syracuse.edu/wp-content/themes/g6-carbon/css/homepage.css?ver=6.5.17-1597763086706\\' type=\\'text/css\\' media=\\'all\\' />\\n<link rel=\\'stylesheet\\' id=\\'g6-carbon-style-special-css\\'  href=\\'https://www.syracuse.edu/wp-content/themes/g6-carbon/css/special.css?ver=6.5.17-1597763086706\\' type=\\'text/css\\' media=\\'all\\' />\\n<link rel=\\'stylesheet\\' id=\\'g6-carbon-style-print-css\\'  href=\\'https://www.syracuse.edu/wp-content/themes/g6-carbon/css/print.css?ver=6.5.17-1597763086706\\' type=\\'text/css\\' media=\\'print\\' />\\n<link rel=\\'https://api.w.org/\\' href=\\'https://www.syracuse.edu/wp-json/\\' />\\n\\n<link rel=\"alternate\" type=\"application/json+oembed\" href=\"https://www.syracuse.edu/wp-json/oembed/1.0/embed?url=https%3A%2F%2Fwww.syracuse.edu%2Fhome%2Foctober-22%2F\" />\\n<link rel=\"alternate\" type=\"text/xml+oembed\" href=\"https://www.syracuse.edu/wp-json/oembed/1.0/embed?url=https%3A%2F%2Fwww.syracuse.edu%2Fhome%2Foctober-22%2F&#038;format=xml\" />\\n<script type=\"text/javascript\">\\n(function(url){\\n\\tif(/(?:Chrome\\\\/26\\\\.0\\\\.1410\\\\.63 Safari\\\\/537\\\\.31|WordfenceTestMonBot)/.test(navigator.userAgent)){ return; }\\n\\tvar addEvent = function(evt, handler) {\\n\\t\\tif (window.addEventListener) {\\n\\t\\t\\tdocument.addEventListener(evt, handler, false);\\n\\t\\t} else if (window.attachEvent) {\\n\\t\\t\\tdocument.attachEvent(\\'on\\' + evt, handler);\\n\\t\\t}\\n\\t};\\n\\tvar removeEvent = function(evt, handler) {\\n\\t\\tif (window.removeEventListener) {\\n\\t\\t\\tdocument.removeEventListener(evt, handler, false);\\n\\t\\t} else if (window.detachEvent) {\\n\\t\\t\\tdocument.detachEvent(\\'on\\' + evt, handler);\\n\\t\\t}\\n\\t};\\n\\tvar evts = \\'contextmenu dblclick drag dragend dragenter dragleave dragover dragstart drop keydown keypress keyup mousedown mousemove mouseout mouseover mouseup mousewheel scroll\\'.split(\\' \\');\\n\\tvar logHuman = function() {\\n\\t\\tif (window.wfLogHumanRan) { return; }\\n\\t\\twindow.wfLogHumanRan = true;\\n\\t\\tvar wfscr = document.createElement(\\'script\\');\\n\\t\\twfscr.type = \\'text/javascript\\';\\n\\t\\twfscr.async = true;\\n\\t\\twfscr.src = url + \\'&r=\\' + Math.random();\\n\\t\\t(document.getElementsByTagName(\\'head\\')[0]||document.getElementsByTagName(\\'body\\')[0]).appendChild(wfscr);\\n\\t\\tfor (var i = 0; i < evts.length; i++) {\\n\\t\\t\\tremoveEvent(evts[i], logHuman);\\n\\t\\t}\\n\\t};\\n\\tfor (var i = 0; i < evts.length; i++) {\\n\\t\\taddEvent(evts[i], logHuman);\\n\\t}\\n})(\\'//www.syracuse.edu/?wordfence_lh=1&hid=72392E4BBE91BD9F1B736FF47537CD19\\');\\n</script><style type=\"text/css\">.recentcomments a{display:inline !important;padding:0 !important;margin:0 !important;}</style>\\t\\t<style type=\"text/css\" id=\"wp-custom-css\">\\n\\t\\t\\t.post-type-archive-story .non-featured-posts article,\\n.post-type-archive-story .all-posts article,\\nmain article.carbon-featured-item,\\nmain article.carbon-archive-item {\\n  padding-bottom: 0;\\n}\\n\\n@media screen and (min-width: 55em) {\\n  main.has-sidebar {\\n    display: block;\\n  }\\n}\\n\\n.grecaptcha-badge {\\n\\tdisplay: none;\\n}\\t\\t</style>\\n\\t\\t<link rel=\"canonical\" href=\"https://www.syracuse.edu/\"><style>\\n\\t\\t\\t\\t@media screen and (min-height: 38em) and (min-width: 45em) {\\n\\t\\t\\t\\t\\t#banner-card .sizer {\\n\\t\\t\\t\\t\\t\\tmax-width: 30em;\\n\\t\\t\\t\\t\\t}\\n\\t\\t\\t\\t}\\n\\t\\t\\t\\t@media screen and (min-height: 38em) and (min-width: 73em) {\\n\\t\\t\\t\\t  #banner-card .sizer {\\n\\t\\t\\t\\t    max-width: 30em;\\n\\t\\t\\t\\t  }\\n\\t\\t\\t\\t}\\n\\t\\t\\t\\t.hero #banner {\\n\\t\\t\\t\\t\\tbackground-image: url(\\'https://www.syracuse.edu/wp-content/uploads/alison-patteson-feature-800x533.jpg\\');\\n\\t\\t\\t\\t}\\n\\t\\t\\t\\t@media screen and (min-width: 62.5em),\\n\\t\\t\\t\\t\\tscreen and (min-width: 31.25em) and (-webkit-min-device-pixel-ratio: 2),\\n\\t\\t\\t\\t\\tscreen and (min-width: 31.25em) and (min-resolution: 192dpi) {\\n\\t\\t\\t\\t\\t\\t.hero #banner {\\n\\t\\t\\t\\t\\t\\t\\tbackground-image: url(\\'https://www.syracuse.edu/wp-content/uploads/alison-patteson-feature-1100x733.jpg\\');\\n\\t\\t\\t\\t\\t}\\n\\t\\t\\t\\t}\\n\\t\\t\\t\\t@media screen and (min-width: 86em),\\n\\t\\t\\t\\t\\tscreen and (min-width: 43em) and (-webkit-min-device-pixel-ratio: 2),\\n\\t\\t\\t\\t\\tscreen and (min-width: 43em) and (min-resolution: 192dpi) {\\n\\t\\t\\t\\t\\t\\t.hero #banner {\\n\\t\\t\\t\\t\\t\\t\\tbackground-image: url(\\'https://www.syracuse.edu/wp-content/uploads/alison-patteson-feature-1600x1067.jpg\\');\\n\\t\\t\\t\\t\\t}\\n\\t\\t\\t\\t}\\n\\t\\t\\t\\t@media screen and (min-width: 125em),\\n\\t\\t\\t\\t\\tscreen and (min-width: 62.5em) and (-webkit-min-device-pixel-ratio: 2),\\n\\t\\t\\t\\t\\tscreen and (min-width: 62.5em) and (min-resolution: 192dpi),\\n\\t\\t\\t\\t\\tscreen and (min-width: 86em) and (min-height: 125em),\\n\\t\\t\\t\\t\\tscreen and (min-width: 43em) and (min-height: 62.5em) and (-webkit-min-device-pixel-ratio: 2),\\n\\t\\t\\t\\t\\tscreen and (min-width: 43em) and (min-height: 62.5em) and (min-resolution: 192dpi) {\\n\\t\\t\\t\\t\\t\\t.hero #banner {\\n\\t\\t\\t\\t\\t\\t\\tbackground-image: url(\\'https://www.syracuse.edu/wp-content/uploads/alison-patteson-feature-2200x1467.jpg\\');\\n\\t\\t\\t\\t\\t}\\n\\t\\t\\t\\t}\\n\\t\\t\\t</style>\\n</head>\\n<body class=\"home page-template-default page page-id-322 page-homepage\" >\\n\\n<!-- Google Tag Manager (noscript) -->\\n<noscript class=\"gtm-noscript\"><iframe src=\"https://www.googletagmanager.com/ns.html?id=GTM-5FC97GL\"\\nheight=\"0\" width=\"0\" style=\"display:none;visibility:hidden\"></iframe></noscript>\\n<!-- End Google Tag Manager (noscript) -->\\n<div id=\"page\" class=\"site\">\\n\\t<div id=\"orange-alert\" class=\"alert-bar\"></div>\\n\\t<div class=\"alert-bar privacy-notice\">\\n  <div class=\"container\">\\n    <div class=\"cell alert\">\\n      <p>By continuing to use this site, you agree to the use of cookies in accordance with our <a href=\"https://www.syracuse.edu/about/site/privacy-policy/\">privacy policy</a>.</p>\\n    </div>\\n    <div class=\"cell btn\">\\n      <button type=\"button\" class=\"close js-dismiss-privacy-notice\" aria-label=\"Dismiss privacy notice\">Dismiss</button>\\n    </div>\\n  </div>\\n</div>\\t\\t  <div class=\"alert-bar announcement visible\">\\n    <div class=\"container\">\\n      <div class=\"cell alert\">\\n        <p><a href=\"https://www.syracuse.edu/fall2020/\">FALL 2020 <small>The official source of information about Syracuse University’s Fall Semester 2020</small></a></p>\\n      </div>\\n    </div>\\n  </div>\\n\\t<header id=\"header\">\\n\\t  <div id=\"header-inner\">\\n\\t    <div id=\"header-row-1\">\\n\\t      <div class=\"header-table-cell\" id=\"header-branding\">\\n\\t      \\t<a id=\"header-skip-header\" href=\"#content\">Skip to Content</a>\\n\\t        <h1><a href=\"/\"><picture><source srcset=\"https://www.syracuse.edu/wp-content/themes/g6-carbon/img/syracuse-university.svg?ver=6.5.17\" media=\"(min-width: 370px)\"><img srcset=\"https://www.syracuse.edu/wp-content/themes/g6-carbon/img/syracuse-university-2line.svg?ver=6.5.17\" alt=\"Syracuse University Home\"></picture></a></h1>\\n\\t      </div>\\n\\t      <div class=\"header-table-cell\" id=\"header-menu-button\">\\n\\t\\t\\t\\t\\t<button aria-haspopup=\"true\" aria-label=\"Open Menu\" data-mdown=\"0\">Open menu</button>\\n\\t\\t\\t</div>\\n\\t      <div class=\"header-table-cell\" id=\"header-nav-top\">\\n\\t\\t\\t\\t<div id=\"header-nav-top-container\">\\n\\t\\t\\t\\t\\t<ul aria-label=\"Syracuse browse categories\">\\n\\t\\t\\t\\t\\t\\t\\t\\t\\t\\t\\t\\t\\t<li><a href=\"https://www.syracuse.edu/about/\" data-main-nav=\"About\">About</a></li>\\n\\t\\t\\t\\t\\t\\t\\t\\t\\t\\t\\t\\t\\t<li><a href=\"https://www.syracuse.edu/admissions/\" data-main-nav=\"Admissions\">Admissions</a></li>\\n\\t\\t\\t\\t\\t\\t\\t\\t\\t\\t\\t\\t\\t<li><a href=\"https://www.syracuse.edu/academics/\" data-main-nav=\"Academics\">Academics</a></li>\\n\\t\\t\\t\\t\\t\\t\\t\\t\\t\\t\\t\\t\\t<li><a href=\"https://www.syracuse.edu/life/\" data-main-nav=\"Life\">Life</a></li>\\n\\t\\t\\t\\t\\t\\t\\t\\t\\t\\t\\t\\t\\t<li><a href=\"http://cuse.com/\" data-main-nav=\"Athletics\">Athletics</a></li>\\n\\t\\t\\t\\t\\t\\t\\t\\t\\t\\t\\t\\t<li id=\"header-link-more\"><button aria-haspopup=\"true\" aria-label=\"Open Menu\" data-mdown=\"0\" data-main-nav=\"More\">More</button></li>\\n\\t\\t\\t\\t\\t</ul>\\n\\t\\t\\t\\t</div>\\n\\t      </div>\\n\\t      <div class=\"header-table-cell\" id=\"header-search\">\\n\\t\\t\\t\\t\\t<div class=\"aux-border\">\\n\\t\\t\\t\\t\\t\\t<form id=\"header-search-form\" onsubmit=\"return false;\" role=\"search\">\\n\\t\\t\\t\\t\\t\\t\\t<label for=\"header-search-input\" class=\"carbon_hidden_label\">Search the University</label>\\n\\t\\t\\t\\t\\t\\t\\t<input id=\"header-search-input\" class=\"placeholder-shown\" type=\"text\" name=\"q\" autocomplete=\"off\" placeholder=\"Search the University...\">\\n\\t\\t\\t\\t\\t\\t\\t<input type=\"submit\" value=\"Search\" aria-label=\"Submit University site search query\">\\n\\t\\t\\t\\t\\t\\t</form>\\n\\t\\t\\t\\t\\t</div>\\n\\t\\t\\t\\t</div>\\n\\t      <div class=\"header-table-cell\" id=\"header-search-toggle\">\\n\\t\\t\\t\\t\\t<button>Open search</button>\\n\\t\\t\\t\\t</div>\\n\\t\\t\\t\\t<nav id=\"g6-uni-header-search-drop\" class=\"g6-uni-search-open\">\\n\\t\\t\\t\\t  <div id=\"g6-uni-header-search-popular\" class=\"g6-uni-row\" style=\"display: block;\">\\n\\t\\t\\t\\t    <strong>Popular searches</strong>\\n\\t\\t\\t\\t\\t\\t<ol id=\"g6-uni-header-search-queries\" aria-label=\"Popular searches\" style=\"display: block;\"></ol>\\n\\t\\t\\t\\t  </div>\\n\\t\\t\\t\\t\\t<div id=\"header-search-people\">\\n\\t\\t\\t\\t\\t\\t<a href=\"http://directory.syr.edu/\">Search people (directory)</a>\\n\\t\\t\\t\\t\\t</div>\\n\\t\\t\\t\\t</nav>\\n\\t    </div>\\n\\t  </div>\\n\\t\\t<nav id=\"g6-uni-header-menu\" aria-label=\"Browse all pages\">\\n\\t    <div id=\"g6-uni-header-menu-header\">\\n\\t\\t\\t\\t<a href=\"/\"><picture class=\"wordmark\">\\n\\t\\t\\t\\t\\t<source srcset=\"https://www.syracuse.edu/wp-content/themes/g6-carbon/img/syracuse-university-2line.svg\" media=\"(min-width: 720px)\">\\n\\t\\t\\t\\t\\t<source srcset=\"https://www.syracuse.edu/wp-content/themes/g6-carbon/img/syracuse-university.svg\" media=\"(min-width: 370px)\">\\n\\t\\t\\t\\t\\t<img srcset=\"https://www.syracuse.edu/wp-content/themes/g6-carbon/img/syracuse-university-2line.svg\" alt=\"Syracuse University Home\">\\n\\t\\t\\t\\t</picture></a>\\n\\t      <button id=\"g6-uni-header-menu-close\" aria-label=\"Close Menu\">Close menu</button>\\n\\t    </div>\\n      <ol id=\"g6-uni-header-menu-main\">\\n\\t\\t\\t\\t<li id=\"menu-home\" class=\"active\"><a id=\"menu-toggle-home\" class=\"menu-toggle\" data-menu=\"home\" data-mdown=\"0\" href=\"javascript:void(0);\" aria-label=\"Home menu\">Home</a>\\n<ol>\\n\\t<li><a href=\"https://www.syracuse.edu/about/\" aria-expanded=\"false\" aria-label=\"About section\">About</a>\\n\\t<button class=\"drawer-button\">Toggle dropdown</button>\\n\\n\\t<ol>\\n\\t\\t<li><a href=\"https://www.syracuse.edu/about/leadership/\">Leadership</a></li>\\n\\t\\t<li><a href=\"https://www.syracuse.edu/about/vision-mission/\">Vision &#038; Mission</a></li>\\n\\t\\t<li><a href=\"https://www.syracuse.edu/about/consumer-information/\">Consumer Information</a></li>\\n\\t\\t<li><a href=\"https://www.syracuse.edu/about/facts-figures-rankings/\">Facts &#038; Figures</a></li>\\n\\t\\t<li><a href=\"https://www.syracuse.edu/about/visit/\">Plan Your Visit</a></li>\\n\\t\\t<li><a href=\"https://www.syracuse.edu/about/map/\">Campus Map</a></li>\\n\\t\\t<li><a href=\"https://www.syracuse.edu/about/campus-shuttle/\">Campus Shuttle</a></li>\\n\\t\\t<li><a href=\"https://www.syracuse.edu/about/history/\">History</a></li>\\n\\t\\t<li><a href=\"https://www.syracuse.edu/about/news/\">News &#038; Magazine</a></li>\\n\\t\\t<li><a href=\"https://www.syracuse.edu/about/partnerships/\">Partnerships</a></li>\\n\\t\\t<li><a href=\"https://www.syracuse.edu/about/work-at-syracuse/\">Work at Syracuse</a></li>\\n\\t\\t<li><a href=\"https://www.syracuse.edu/about/social-media/\">Social Media</a></li>\\n\\t\\t<li><a href=\"https://www.syracuse.edu/about/bookstore/\">Bookstore</a></li>\\n\\t\\t<li><a href=\"https://www.syracuse.edu/about/brand/\">Brand</a></li>\\n\\t\\t<li><a href=\"https://www.syracuse.edu/about/contact/\">Help &#038; Contacts</a></li>\\n\\t</ol>\\n</li>\\n\\t<li><a href=\"https://www.syracuse.edu/admissions/\" aria-expanded=\"false\" aria-label=\"Admissions section\">Admissions</a>\\n\\t<button class=\"drawer-button\">Toggle dropdown</button>\\n\\n\\t<ol>\\n\\t\\t<li><a href=\"https://www.syracuse.edu/admissions/undergraduate/\">Undergraduate</a></li>\\n\\t\\t<li><a href=\"https://www.syracuse.edu/admissions/graduate/\">Graduate</a></li>\\n\\t\\t<li><a href=\"https://www.syracuse.edu/admissions/part-time/\">Part-Time</a></li>\\n\\t\\t<li><a href=\"https://www.syracuse.edu/admissions/cost-and-aid/\">Cost &#038; Aid</a></li>\\n\\t\\t<li><a href=\"https://www.syracuse.edu/admissions/request-information/\">Request Information</a></li>\\n\\t\\t<li><a href=\"https://www.syracuse.edu/admissions/visit-tour/\">Visit &#038; Tour</a></li>\\n\\t\\t<li><a href=\"https://www.syracuse.edu/admissions/apply/\">Apply</a></li>\\n\\t</ol>\\n</li>\\n\\t<li><a href=\"https://www.syracuse.edu/academics/\" aria-expanded=\"false\" aria-label=\"Academics section\">Academics</a>\\n\\t<button class=\"drawer-button\">Toggle dropdown</button>\\n\\n\\t<ol>\\n\\t\\t<li><a href=\"https://www.syracuse.edu/academics/schools-colleges/\">Schools &#038; Colleges</a></li>\\n\\t\\t<li><a href=\"https://www.syracuse.edu/academics/undergraduate-majors-minors/\">Undergraduate Majors &#038; Minors</a></li>\\n\\t\\t<li><a href=\"https://www.syracuse.edu/academics/graduate-programs/\">Graduate Degrees</a></li>\\n\\t\\t<li><a href=\"https://www.syracuse.edu/academics/study-abroad/\">Study Abroad</a></li>\\n\\t\\t<li><a href=\"https://www.syracuse.edu/academics/opportunities/\">Opportunities &#038; Support</a></li>\\n\\t\\t<li><a href=\"https://www.syracuse.edu/academics/calendars/\">Calendars</a></li>\\n\\t\\t<li><a href=\"https://www.syracuse.edu/academics/departments/\">Departments</a></li>\\n\\t\\t<li><a href=\"https://www.syracuse.edu/academics/research/\">Research</a></li>\\n\\t\\t<li><a href=\"https://www.syracuse.edu/academics/centers-institutes/\">Centers &#038; Institutes</a></li>\\n\\t\\t<li><a href=\"https://www.syracuse.edu/academics/libraries-collections-galleries/\">Libraries, Collections &#038; Galleries</a></li>\\n\\t\\t<li><a href=\"https://www.syracuse.edu/academics/administration/\">Academic Administration</a></li>\\n\\t</ol>\\n</li>\\n\\t<li><a href=\"https://www.syracuse.edu/life/\" aria-expanded=\"false\" aria-label=\"Life section\">Life</a>\\n\\t<button class=\"drawer-button\">Toggle dropdown</button>\\n\\n\\t<ol>\\n\\t\\t<li><a href=\"https://www.syracuse.edu/life/accessibility-diversity/\">Accessibility &#038; Diversity</a></li>\\n\\t\\t<li><a href=\"https://www.syracuse.edu/life/campus-highlights/\">Campus Highlights</a></li>\\n\\t\\t<li><a href=\"https://www.syracuse.edu/life/events-calendar/\">Events Calendar</a></li>\\n\\t\\t<li><a href=\"https://www.syracuse.edu/life/services-support/\">Services &#038; Support</a></li>\\n\\t\\t<li><a href=\"https://www.syracuse.edu/life/meals-dining/\">Meals &#038; Dining</a></li>\\n\\t\\t<li><a href=\"https://www.syracuse.edu/life/housing/\">Housing</a></li>\\n\\t\\t<li><a href=\"https://www.syracuse.edu/life/groups-activities/\">Groups &#038; Activities</a></li>\\n\\t\\t<li><a href=\"https://www.syracuse.edu/life/recreation/\">Recreation &#038; Facilities</a></li>\\n\\t\\t<li><a href=\"https://www.syracuse.edu/life/students/\">For Students</a></li>\\n\\t\\t<li><a href=\"https://www.syracuse.edu/life/veterans-military/\">For Veterans &#038; Military</a></li>\\n\\t\\t<li><a href=\"https://www.syracuse.edu/life/faculty-staff/\">For Faculty &#038; Staff</a></li>\\n\\t\\t<li><a href=\"https://www.syracuse.edu/life/parents/\">For Parents &#038; Families</a></li>\\n\\t</ol>\\n</li>\\n\\t<li><a href=\"https://www.syracuse.edu/a-z/\">A-Z Index</a></li>\\n\\t<li><a href=\"https://www.syracuse.edu/sitemap/\">Sitemap</a></li>\\n\\t<li><a href=\"https://www.syracuse.edu/login/\">Login</a></li>\\n</ol>\\n</li>\\n<li id=\"menu-athletics\"><a id=\"menu-toggle-athletics\" class=\"menu-toggle\" data-menu=\"athletics\" data-mdown=\"0\" href=\"javascript:void(0);\" aria-label=\"Athletics menu\">Athletics</a>\\n<ol>\\n\\t<li><a href=\"https://www.syracuse.edu/search/?r=athletics&q=men%E2%80%99s+sports\" aria-expanded=\"false\" aria-label=\"Men\\'s Sports section\">Men&#8217;s Sports</a>\\n\\t<button class=\"drawer-button\">Toggle dropdown</button>\\n\\n\\t<ol>\\n\\t\\t<li><a href=\"http://cuse.com/index.aspx?path=mbasket\">Basketball</a></li>\\n\\t\\t<li><a href=\"http://cuse.com/index.aspx?path=ccountry\">Cross Country</a></li>\\n\\t\\t<li><a href=\"http://cuse.com/index.aspx?path=football\">Football</a></li>\\n\\t\\t<li><a href=\"http://cuse.com/index.aspx?path=mlacrosse\">Lacrosse</a></li>\\n\\t\\t<li><a href=\"http://cuse.com/index.aspx?path=crew\">Rowing</a></li>\\n\\t\\t<li><a href=\"http://cuse.com/index.aspx?path=msoccer\">Soccer</a></li>\\n\\t\\t<li><a href=\"http://cuse.com/index.aspx?path=trun\">Track and Field</a></li>\\n\\t</ol>\\n</li>\\n\\t<li><a href=\"https://www.syracuse.edu/search/?r=athletics&q=women%E2%80%99s+sports\" aria-expanded=\"false\" aria-label=\"Women\\'s Sports section\">Women&#8217;s Sports</a>\\n\\t<button class=\"drawer-button\">Toggle dropdown</button>\\n\\n\\t<ol>\\n\\t\\t<li><a href=\"http://cuse.com/schedule.aspx?path=wbasket\">Basketball</a></li>\\n\\t\\t<li><a href=\"http://cuse.com/index.aspx?path=ccountry\">Cross Country</a></li>\\n\\t\\t<li><a href=\"http://cuse.com/index.aspx?path=fhockey\">Field Hockey</a></li>\\n\\t\\t<li><a href=\"http://cuse.com/index.aspx?path=wice\">Ice Hockey</a></li>\\n\\t\\t<li><a href=\"http://cuse.com/index.aspx?path=wlacrosse\">Lacrosse</a></li>\\n\\t\\t<li><a href=\"http://cuse.com/index.aspx?path=rowing\">Rowing</a></li>\\n\\t\\t<li><a href=\"http://cuse.com/index.aspx?path=wsoccer\">Soccer</a></li>\\n\\t\\t<li><a href=\"http://cuse.com/index.aspx?path=softball\">Softball</a></li>\\n\\t\\t<li><a href=\"http://cuse.com/index.aspx?path=tennis\">Tennis</a></li>\\n\\t\\t<li><a href=\"http://cuse.com/index.aspx?path=trun\">Track and Field</a></li>\\n\\t\\t<li><a href=\"http://cuse.com/index.aspx?path=vball\">Volleyball</a></li>\\n\\t</ol>\\n</li>\\n\\t<li><a href=\"https://cuse.com/sports/2018/3/9/syracuse-athletics-mission-statement.aspx\" aria-expanded=\"false\" aria-label=\"Athletics Dept. section\">Athletics Dept.</a>\\n\\t<button class=\"drawer-button\">Toggle dropdown</button>\\n\\n\\t<ol>\\n\\t\\t<li><a href=\"http://cuse.com/facilities/facilities.aspx\">Facilities</a></li>\\n\\t\\t<li><a href=\"http://cuse.com/staff.aspx\">Staff Directory</a></li>\\n\\t\\t<li><a href=\"http://cuse.com/sports/2001/8/7/recognition.aspx\">Academic Honors</a></li>\\n\\t\\t<li><a href=\"http://cuse.com/sports/2006/9/20/communityservicemainpage.aspx\">Community Service</a></li>\\n\\t\\t<li><a href=\"http://cuse.com/sports/2011/5/11/Spirit_Program.aspx\">Spirit Program</a></li>\\n\\t\\t<li><a href=\"http://cuse.com/sports/2015/9/22/varsityclub.aspx\">Varsity Club</a></li>\\n\\t\\t<li><a href=\"http://www.cuse.com/sports/2003/10/11/sportsmedinice.aspx\">Sports Medicine</a></li>\\n\\t\\t<li><a href=\"http://www.cuse.com/sports/2006/12/21/SUNationalChampions.aspx\">Championships</a></li>\\n\\t</ol>\\n</li>\\n\\t<li><a href=\"https://contests.cuse.com/\" aria-expanded=\"false\" aria-label=\"Fan Zone section\">Fan Zone</a>\\n\\t<button class=\"drawer-button\">Toggle dropdown</button>\\n\\n\\t<ol>\\n\\t\\t<li><a href=\"http://www.carrierdome.com/calendar.aspx?vwcal=1\">Dome Schedule</a></li>\\n\\t\\t<li><a href=\"http://syracusebasketball.io-media.com/web/index.html\">Seating Information</a></li>\\n\\t\\t<li><a href=\"http://www.cuse.com/watch/?Live=3618\">Orange All Access</a></li>\\n\\t\\t<li><a href=\"http://cuse.com/sports/2016/4/22/ottos-kids-club.aspx\">Otto&#8217;s Kids Club</a></li>\\n\\t\\t<li><a href=\"http://cuse.com/galleries/\">Game Photos</a></li>\\n\\t\\t<li><a href=\"http://cuse.com/sports/2009/2/4/GEN_0204093552.aspx\">Promotions</a></li>\\n\\t\\t<li><a href=\"http://cuse.com/sports/2012/9/18/club44.aspx\">Orange Club</a></li>\\n\\t</ol>\\n</li>\\n\\t<li><a href=\"http://cuse.com/calendar.aspx\">Schedules</a></li>\\n\\t<li><a href=\"http://cuse.com/archives.aspx\">News</a></li>\\n</ol>\\n</li>\\n<li id=\"menu-alumni\"><a id=\"menu-toggle-alumni\" class=\"menu-toggle\" data-menu=\"alumni\" data-mdown=\"0\" href=\"javascript:void(0);\" aria-label=\"Alumni menu\">Alumni</a>\\n<ol>\\n\\t<li><a href=\"http://cusecommunity.syr.edu/s/1632/17/interior.aspx?sid=1632&gid=2&pgid=2220\" aria-expanded=\"false\" aria-label=\"About section\">About</a>\\n\\t<button class=\"drawer-button\">Toggle dropdown</button>\\n\\n\\t<ol>\\n\\t\\t<li><a href=\"http://cusecommunity.syr.edu/s/1632/17/interior.aspx?sid=1632&gid=2&pgid=2226\">Notable Alumni</a></li>\\n\\t\\t<li><a href=\"http://cusecommunity.syr.edu/s/1632/17/interior.aspx?sid=1632&gid=2&pgid=2214\">Alumni Association</a></li>\\n\\t\\t<li><a href=\"http://cusecommunity.syr.edu/s/1632/17/interior.aspx?sid=1632&gid=2&pgid=2245\">Awards</a></li>\\n\\t\\t<li><a href=\"https://news.syr.edu/topics/alumni/\">News</a></li>\\n\\t</ol>\\n</li>\\n\\t<li><a href=\"http://cusecommunity.syr.edu/clubs\" aria-expanded=\"false\" aria-label=\"Events and Clubs section\">Events and Clubs</a>\\n\\t<button class=\"drawer-button\">Toggle dropdown</button>\\n\\n\\t<ol>\\n\\t\\t<li><a href=\"http://orangecentral.syr.edu/\">Orange Central</a></li>\\n\\t\\t<li><a href=\"http://cusecommunity.syr.edu/clubs-northeast\">Northeast</a></li>\\n\\t\\t<li><a href=\"http://cusecommunity.syr.edu/clubs-midwest\">Midwest</a></li>\\n\\t\\t<li><a href=\"http://cusecommunity.syr.edu/clubs-south\">South</a></li>\\n\\t\\t<li><a href=\"http://cusecommunity.syr.edu/clubs-west\">West</a></li>\\n\\t\\t<li><a href=\"http://cusecommunity.syr.edu/clubs-other\">World/Affinity</a></li>\\n\\t</ol>\\n</li>\\n\\t<li><a href=\"http://cusecommunity.syr.edu/s/1632/17/interior.aspx?sid=1632&gid=2&pgid=2227\" aria-expanded=\"false\" aria-label=\"Regions section\">Regions</a>\\n\\t<button class=\"drawer-button\">Toggle dropdown</button>\\n\\n\\t<ol>\\n\\t\\t<li><a href=\"http://atlanta.syr.edu/\">Atlanta</a></li>\\n\\t\\t<li><a href=\"http://boston.syr.edu/\">Boston</a></li>\\n\\t\\t<li><a href=\"http://chicago.syr.edu/\">Chicago</a></li>\\n\\t\\t<li><a href=\"http://la.syr.edu/\">Los Angeles</a></li>\\n\\t\\t<li><a href=\"http://middleeast.syr.edu/\">Middle East</a></li>\\n\\t\\t<li><a href=\"http://nyc.syr.edu/\">New York</a></li>\\n\\t\\t<li><a href=\"http://sf.syr.edu/\">San Francisco</a></li>\\n\\t\\t<li><a href=\"http://dc.syr.edu/\">Washington, DC</a></li>\\n\\t</ol>\\n</li>\\n\\t<li><a href=\"http://cusecommunity.syr.edu/s/1632/17/interior.aspx?sid=1632&gid=2&pgid=2240\" aria-expanded=\"false\" aria-label=\"Services section\">Services</a>\\n\\t<button class=\"drawer-button\">Toggle dropdown</button>\\n\\n\\t<ol>\\n\\t\\t<li><a href=\"http://cusecommunity.syr.edu/s/1632/17/interior.aspx?sid=1632&gid=2&pgid=2231\">Career</a></li>\\n\\t\\t<li><a href=\"http://cusecommunity.syr.edu/s/1632/17/interior.aspx?sid=1632&gid=2&pgid=2268\">Network</a></li>\\n\\t\\t<li><a href=\"http://cusecommunity.syr.edu/s/1632/17/interior.aspx?sid=1632&gid=2&pgid=2225\">Generation Orange</a></li>\\n\\t\\t<li><a href=\"http://cusecommunity.syr.edu/?sid=1632&gid=2&pgid=6\">Directory</a></li>\\n\\t\\t<li><a href=\"http://cusecommunity.syr.edu/profile\">Profile</a></li>\\n\\t\\t<li><a href=\"http://cusecommunity.syr.edu/notes\">Class Notes</a></li>\\n\\t</ol>\\n</li>\\n\\t<li><a href=\"http://giving.syr.edu/\">Giving</a></li>\\n\\t<li><a href=\"http://cusecommunity.syr.edu/s/1632/17/interior.aspx?sid=1632&gid=2&pgid=2219\">Contact</a></li>\\n</ol>\\n</li>\\n      </ol>\\n\\t\\t\\t<aside id=\"g6-uni-header-menu-utility\">\\n\\t\\t\\t\\t<ol aria-label=\"Connect with Syracuse\">\\n\\t\\t\\t\\t\\t<li >\\n\\t\\t\\t<a href=\"https://www.syracuse.edu/about/contact/\">Contact</a>\\n\\t\\t</li>\\n\\t\\t\\t\\t\\t<li >\\n\\t\\t\\t<a href=\"https://www.syracuse.edu/about/visit/\">Visit</a>\\n\\t\\t</li>\\n\\t\\t\\t\\t\\t<li >\\n\\t\\t\\t<a href=\"https://www.syracuse.edu/admissions/apply/\">Apply</a>\\n\\t\\t</li>\\n\\t\\t\\t\\t\\t<li >\\n\\t\\t\\t<a href=\"https://www.syracuse.edu/coronavirus/?megamenu\">Coronavirus Updates</a>\\n\\t\\t</li>\\n\\t\\t\\t\\t\\t<li  id=\"g6-uni-last\">\\n\\t\\t\\t<a href=\"https://giving.syr.edu/?foreverorangebar\">Forever Orange</a>\\n\\t\\t</li>\\n\\t</ol>\\n\\t\\t\\t</aside>\\n\\t\\t</nav>\\n\\t</header>\\n\\t<nav id=\"nav-local\"><span class=\"hoverLeft\"></span><div class=\"scroller scroll-x\">  <ol id=\"nav-local-browse\">\\n\\t\\t\\t\\t\\t<li class=\"dropdown\"><a href=\"https://www.syracuse.edu/life/accessibility-diversity/diversity-inclusion/commitments/?menu\" data-subnav-browse=\"Diversity and Inclusion Commitments\">Diversity and Inclusion Commitments</a></li>\\n\\t\\t\\t\\t\\t<li class=\"dropdown\"><a href=\"https://giving.syr.edu/?foreverorangebar\" data-subnav-browse=\"Forever Orange\">Forever Orange</a></li>\\n\\t\\t\\t\\t\\t<li class=\"dropdown\"><a href=\"/150years/\" data-subnav-browse=\"150 Years\">150 Years</a></li>\\n\\t\\t\\t\\t\\t<li class=\"dropdown\"><a href=\"https://news.syr.edu/\" data-subnav-browse=\"News\">News</a></li>\\n\\t\\t\\t\\t\\t<li class=\"dropdown\"><a href=\"https://calendar.syracuse.edu/events/\" data-subnav-browse=\"Events\">Events</a></li>\\n\\t\\t\\t\\t\\t<li class=\"dropdown\"><a href=\"https://library.syr.edu/\" data-subnav-browse=\"Libraries\">Libraries</a></li>\\n\\t\\t\\t\\t\\t<li class=\"dropdown\"><a href=\"https://myslice.ps.syr.edu/\" data-subnav-browse=\"MySlice\">MySlice</a></li>\\n\\t\\t\\t\\t\\t<li class=\"dropdown\"><a href=\"/a-z/\" data-subnav-browse=\"A-Z\">A-Z</a></li>\\n\\t\\t\\t</ol>\\n<ol id=\"nav-local-dropdown\" aria-label=\"Audience links\">\\n\\t<li class=\"in-this-section\"><a href=\"#\" aria-haspopup=\"true\" aria-expanded=\"false\" data-trigger data-subnav-audience=\"Info for\">Info for</a></li>\\n\\t\\t\\t<li class=\"dropdown\"><a href=\"/life/students/\" data-subnav-audience=\"Students\">Students</a></li>\\n\\t\\t\\t<li class=\"dropdown\"><a href=\"/life/veterans-military/\" data-subnav-audience=\"Veterans & Military\">Veterans & Military</a></li>\\n\\t\\t\\t<li class=\"dropdown\"><a href=\"/life/faculty-staff/\" data-subnav-audience=\"Faculty & Staff\">Faculty & Staff</a></li>\\n\\t\\t\\t<li class=\"dropdown\"><a href=\"/life/parents/\" data-subnav-audience=\"Parents & Families\">Parents & Families</a></li>\\n\\t\\t\\t<li class=\"dropdown\"><a href=\"http://cusecommunity.syr.edu/\" data-subnav-audience=\"Alumni\">Alumni</a></li>\\n\\t</ol>\\n  \\t<ol id=\"nav-local-breadcrumbs\">\\n\\t\\t\\t\\t\\t<li class=\"dropdown\"><a href=\"https://www.syracuse.edu/life/accessibility-diversity/diversity-inclusion/commitments/?menu\" data-subnav-quicklinks=\"Diversity and Inclusion Commitments\">Diversity and Inclusion Commitments</a></li>\\n\\t\\t\\t\\t\\t<li class=\"dropdown\"><a href=\"https://giving.syr.edu/\" data-subnav-quicklinks=\"Forever Orange\">Forever Orange</a></li>\\n\\t\\t\\t\\t\\t<li class=\"dropdown\"><a href=\"/150years/\" data-subnav-quicklinks=\"150 Years\">150 Years</a></li>\\n\\t\\t\\t\\t\\t<li class=\"dropdown\"><a href=\"https://news.syr.edu/\" data-subnav-quicklinks=\"News\">News</a></li>\\n\\t\\t\\t\\t\\t<li class=\"dropdown\"><a href=\"https://calendar.syracuse.edu/events/\" data-subnav-quicklinks=\"Events\">Events</a></li>\\n\\t\\t\\t\\t\\t<li class=\"dropdown\"><a href=\"http://giving.syr.edu/\" data-subnav-quicklinks=\"Giving\">Giving</a></li>\\n\\t\\t\\t\\t\\t<li class=\"dropdown\"><a href=\"http://library.syr.edu\" data-subnav-quicklinks=\"Libraries\">Libraries</a></li>\\n\\t\\t\\t\\t\\t<li class=\"dropdown\"><a href=\"https://myslice.ps.syr.edu/\" data-subnav-quicklinks=\"MySlice\">MySlice</a></li>\\n\\t\\t\\t\\t\\t<li class=\"dropdown\"><a href=\"/a-z/\" data-subnav-quicklinks=\"A-Z\">A-Z</a></li>\\n\\t\\t\\t</ol>\\n</div><span class=\"hoverRight\"></span></nav><div id=\"content\" class=\"site-content\">\\t<div id=\"primary\" class=\"content-area\">\\n\\t\\t<main id=\"main\" class=\"site-main\">\\n\\n\\t\\t\\t<div class=\"hero\"><article id=\"post-24355\">\\n\\t\\t\\t\\t<figure id=\"banner\"></figure>\\n\\t\\t\\t\\t<div id=\"banner-card\" class=\"left  \">\\n\\t\\t\\t\\t\\t<div class=\"sizer\"><h1 class=\"hero-title\">The BioInspired Mind</h1><p>Biophysicist is using a trio of grant awards to probe the mysteries of complex living systems.</p><a class=\"button orange\" href=\"https://www.syracuse.edu/stories/biophysicist-alison-patteson-nsf-grant/\" aria-label=\"The BioInspired Mind\" data-home-content=\"1\">Read her story</a></div>\\n\\t\\t\\t\\t</div>\\n\\t\\t\\t</article><aside><div id=\"homepage_cards\"><div class=\"card box-clickable\" data-home-content=\"2\"><figure><img class=\"lazy-load\" srcset=\"https://www.syracuse.edu/wp-content/themes/g6-carbon/img/3x2.gif 3w\" data-srcset=\"https://www.syracuse.edu/wp-content/uploads/james-rosenquist-exhibition-1-1600x1065.jpg 1600w,\\n\\t\\t\\t\\t\\t\\t\\t\\t\\t\\thttps://www.syracuse.edu/wp-content/uploads/james-rosenquist-exhibition-1-1100x732.jpg 1100w,\\n\\t\\t\\t\\t\\t\\t\\t\\t\\t\\thttps://www.syracuse.edu/wp-content/uploads/james-rosenquist-exhibition-1-800x532.jpg 800w\"\\n\\t\\t\\t\\t\\t\\t\\t\\t\\tsizes=\"(min-width: 95em) 25vw, (min-width: 45em) 50vw, 100vw\"\\n\\t\\t\\t\\t\\t\\t\\t\\t\\tsrc=\"https://www.syracuse.edu/wp-content/themes/g6-carbon/img/3x2.gif\" data-src=\"https://www.syracuse.edu/wp-content/uploads/james-rosenquist-exhibition-1-1100x732.jpg\" width=\"1100\" height=\"732\" alt=\"Person looks at large works of art on a wall during a show. Click to read story.\"><noscript><img srcset=\"https://www.syracuse.edu/wp-content/uploads/james-rosenquist-exhibition-1-1600x1065.jpg 1600w,\\n\\t\\t\\t\\t\\t\\t\\t\\t\\t\\t\\thttps://www.syracuse.edu/wp-content/uploads/james-rosenquist-exhibition-1-1100x732.jpg 1100w,\\n\\t\\t\\t\\t\\t\\t\\t\\t\\t\\t\\thttps://www.syracuse.edu/wp-content/uploads/james-rosenquist-exhibition-1-800x532.jpg 800w\"\\n\\t\\t\\t\\t\\t\\t\\t\\t\\t\\tsizes=\"(min-width: 95em) 25vw, (min-width: 45em) 50vw, 100vw\"\\n\\t\\t\\t\\t\\t\\t\\t\\t\\t\\tsrc=\"https://www.syracuse.edu/wp-content/uploads/james-rosenquist-exhibition-1-1100x732.jpg\" width=\"1100\" height=\"732\" alt=\"Person looks at large works of art on a wall during a show. Click to read story.\"></noscript></figure><div class=\"sizer\"><p class=\"kicker\">ARTS AND CULTURE</p><h2><a href=\"https://www.syracuse.edu/stories/art-museum-virtual-programming/\">Art for a Changing World</a></h2><p class=\"text\">With a new name and expanded virtual programming, the Syracuse University Art Museum engages the campus community with innovative programs.</p></div></div><div class=\"card box-clickable\" data-home-content=\"3\"><figure><img class=\"lazy-load\" srcset=\"https://www.syracuse.edu/wp-content/themes/g6-carbon/img/3x2.gif 3w\" data-srcset=\"https://www.syracuse.edu/wp-content/uploads/taylor-john-feature-1600x1067.jpg 1600w,\\n\\t\\t\\t\\t\\t\\t\\t\\t\\t\\thttps://www.syracuse.edu/wp-content/uploads/taylor-john-feature-1100x733.jpg 1100w,\\n\\t\\t\\t\\t\\t\\t\\t\\t\\t\\thttps://www.syracuse.edu/wp-content/uploads/taylor-john-feature-800x533.jpg 800w\"\\n\\t\\t\\t\\t\\t\\t\\t\\t\\tsizes=\"(min-width: 95em) 25vw, (min-width: 45em) 50vw, 100vw\"\\n\\t\\t\\t\\t\\t\\t\\t\\t\\tsrc=\"https://www.syracuse.edu/wp-content/themes/g6-carbon/img/3x2.gif\" data-src=\"https://www.syracuse.edu/wp-content/uploads/taylor-john-feature-1100x733.jpg\" width=\"1100\" height=\"733\" alt=\"Syracuse University student Taylor John wearing an orange sweater and gray backpack standing near columns cascading in background. Click to read story.\"><noscript><img srcset=\"https://www.syracuse.edu/wp-content/uploads/taylor-john-feature-1600x1067.jpg 1600w,\\n\\t\\t\\t\\t\\t\\t\\t\\t\\t\\t\\thttps://www.syracuse.edu/wp-content/uploads/taylor-john-feature-1100x733.jpg 1100w,\\n\\t\\t\\t\\t\\t\\t\\t\\t\\t\\t\\thttps://www.syracuse.edu/wp-content/uploads/taylor-john-feature-800x533.jpg 800w\"\\n\\t\\t\\t\\t\\t\\t\\t\\t\\t\\tsizes=\"(min-width: 95em) 25vw, (min-width: 45em) 50vw, 100vw\"\\n\\t\\t\\t\\t\\t\\t\\t\\t\\t\\tsrc=\"https://www.syracuse.edu/wp-content/uploads/taylor-john-feature-1100x733.jpg\" width=\"1100\" height=\"733\" alt=\"Syracuse University student Taylor John wearing an orange sweater and gray backpack standing near columns cascading in background. Click to read story.\"></noscript></figure><div class=\"sizer\"><p class=\"kicker\">STUDENT SUCCESS</p><h2><a href=\"https://www.syracuse.edu/stories/taylor-john-our-time-has-come-scholarship/\">Our Time Has Come Scholarships Allow Students to Flourish</a></h2><p class=\"text\">Aspiring physician values leadership skills, community and network she has discovered at Syracuse University.</p></div></div><div class=\"card box-clickable\" data-home-content=\"4\"><figure><img class=\"lazy-load\" srcset=\"https://www.syracuse.edu/wp-content/themes/g6-carbon/img/3x2.gif 3w\" data-srcset=\"https://www.syracuse.edu/wp-content/uploads/digital-forensics-feature-1600x1068.jpg 1600w,\\n\\t\\t\\t\\t\\t\\t\\t\\t\\t\\thttps://www.syracuse.edu/wp-content/uploads/digital-forensics-feature-1100x734.jpg 1100w,\\n\\t\\t\\t\\t\\t\\t\\t\\t\\t\\thttps://www.syracuse.edu/wp-content/uploads/digital-forensics-feature-800x534.jpg 800w\"\\n\\t\\t\\t\\t\\t\\t\\t\\t\\tsizes=\"(min-width: 95em) 25vw, (min-width: 45em) 50vw, 100vw\"\\n\\t\\t\\t\\t\\t\\t\\t\\t\\tsrc=\"https://www.syracuse.edu/wp-content/themes/g6-carbon/img/3x2.gif\" data-src=\"https://www.syracuse.edu/wp-content/uploads/digital-forensics-feature-1100x734.jpg\" width=\"1100\" height=\"734\" alt=\"Digital Forensics Professor Joon Park and Michael Marciano with Senior Forensic Science major Linzy Dineen working at a computer and display analyzing data. Click to read story.\"><noscript><img srcset=\"https://www.syracuse.edu/wp-content/uploads/digital-forensics-feature-1600x1068.jpg 1600w,\\n\\t\\t\\t\\t\\t\\t\\t\\t\\t\\t\\thttps://www.syracuse.edu/wp-content/uploads/digital-forensics-feature-1100x734.jpg 1100w,\\n\\t\\t\\t\\t\\t\\t\\t\\t\\t\\t\\thttps://www.syracuse.edu/wp-content/uploads/digital-forensics-feature-800x534.jpg 800w\"\\n\\t\\t\\t\\t\\t\\t\\t\\t\\t\\tsizes=\"(min-width: 95em) 25vw, (min-width: 45em) 50vw, 100vw\"\\n\\t\\t\\t\\t\\t\\t\\t\\t\\t\\tsrc=\"https://www.syracuse.edu/wp-content/uploads/digital-forensics-feature-1100x734.jpg\" width=\"1100\" height=\"734\" alt=\"Digital Forensics Professor Joon Park and Michael Marciano with Senior Forensic Science major Linzy Dineen working at a computer and display analyzing data. Click to read story.\"></noscript></figure><div class=\"sizer\"><p class=\"kicker\">THOUGHT LEADERSHIP</p><h2><a href=\"https://www.syracuse.edu/stories/digital-computational-forensics-fnssi/\">Following the Digital Trail</a></h2><p class=\"text\">Digital and computational forensics are transforming crime scene investigations, as experts collaborate across disciplines to provide skills for high-demand careers.</p></div></div><div class=\"card box-clickable\" data-home-content=\"5\"><figure><img class=\"lazy-load\" srcset=\"https://www.syracuse.edu/wp-content/themes/g6-carbon/img/3x2.gif 3w\" data-srcset=\"https://www.syracuse.edu/wp-content/uploads/masks-required-web-graphic-1600x1067.jpg 1600w,\\n\\t\\t\\t\\t\\t\\t\\t\\t\\t\\thttps://www.syracuse.edu/wp-content/uploads/masks-required-web-graphic-1100x733.jpg 1100w,\\n\\t\\t\\t\\t\\t\\t\\t\\t\\t\\thttps://www.syracuse.edu/wp-content/uploads/masks-required-web-graphic-800x533.jpg 800w\"\\n\\t\\t\\t\\t\\t\\t\\t\\t\\tsizes=\"(min-width: 95em) 25vw, (min-width: 45em) 50vw, 100vw\"\\n\\t\\t\\t\\t\\t\\t\\t\\t\\tsrc=\"https://www.syracuse.edu/wp-content/themes/g6-carbon/img/3x2.gif\" data-src=\"https://www.syracuse.edu/wp-content/uploads/masks-required-web-graphic-1100x733.jpg\" width=\"1100\" height=\"733\" alt=\"Graphic with individual wearing mask with the words \"Masks are required on our campus. Always!\" Click to view page.\"><noscript><img srcset=\"https://www.syracuse.edu/wp-content/uploads/masks-required-web-graphic-1600x1067.jpg 1600w,\\n\\t\\t\\t\\t\\t\\t\\t\\t\\t\\t\\thttps://www.syracuse.edu/wp-content/uploads/masks-required-web-graphic-1100x733.jpg 1100w,\\n\\t\\t\\t\\t\\t\\t\\t\\t\\t\\t\\thttps://www.syracuse.edu/wp-content/uploads/masks-required-web-graphic-800x533.jpg 800w\"\\n\\t\\t\\t\\t\\t\\t\\t\\t\\t\\tsizes=\"(min-width: 95em) 25vw, (min-width: 45em) 50vw, 100vw\"\\n\\t\\t\\t\\t\\t\\t\\t\\t\\t\\tsrc=\"https://www.syracuse.edu/wp-content/uploads/masks-required-web-graphic-1100x733.jpg\" width=\"1100\" height=\"733\" alt=\"Graphic with individual wearing mask with the words \"Masks are required on our campus. Always!\" Click to view page.\"></noscript></figure><div class=\"sizer\"><p class=\"kicker\">CAMPUS AND COMMUNITY</p><h2><a href=\"https://www.syracuse.edu/coronavirus/\">Fall 2020</a></h2><p class=\"text\">This webpage is the official source of information about the University’s plans and important health and safety precautions for the Fall Semester 2020. This page will be updated frequently, so please check back regularly.</p></div></div></div></aside></div>\\n\\t\\t\\t<div style=\"clear:both;\"></div>\\n\\n\\t\\t</main><!-- #main -->\\n\\t</div><!-- #primary -->\\n\\n\\n\\t</div><!-- #content -->\\n\\n\\t<footer id=\"footer\">\\n\\n\\t\\t<div id=\"footer-main\">\\n\\t\\t\\t<div id=\"footer-main-inner\">\\n\\n\\t\\t\\t\\t<div id=\"footer-main-right\">\\n\\t\\t\\t\\t\\t<nav aria-label=\"Popular tasks\"><ol id=\"footer-nav\">\\n<li>\\n<a href=\"https://www.syracuse.edu/sitemap/\" class=\"top-level\" aria-expanded=\"false\" aria-label=\"Popular section\">Popular</a>\\n<button class=\"drawer-button\">Toggle dropdown</button>\\n<ol>\\n<li>\\n<a href=\"https://www.syracuse.edu/academics/calendars/\" class=\"title\">Academic Calendar</a>\\n</li>\\n<li>\\n<a href=\"https://www.syracuse.edu/about/map/\" class=\"title\">Campus Map</a>\\n</li>\\n<li>\\n<a href=\"https://www.syracuse.edu/about/work-at-syracuse/\" class=\"title\">Careers</a>\\n</li>\\n<li>\\n<a href=\"http://library.syr.edu/\" class=\"title\">Libraries</a>\\n</li>\\n<li>\\n<a href=\"https://www.syracuse.edu/academics/undergraduate-majors-minors/\" class=\"title\">Majors and Minors</a>\\n</li>\\n<li>\\n<a href=\"https://www.syracuse.edu/admissions/visit-tour/\" class=\"title\">Visit and Tour</a>\\n</li>\\n</ol>\\n</li>\\n<li>\\n<a href=\"https://www.syracuse.edu/a-z/\" class=\"top-level\" aria-expanded=\"false\" aria-label=\"A-Z section\">A-Z</a>\\n<button class=\"drawer-button\">Toggle dropdown</button>\\n<ol>\\n<li>\\n<a href=\"http://directory.syr.edu/\" class=\"title\">Find People (Directory)</a>\\n</li>\\n<li>\\n<a href=\"https://www.syracuse.edu/academics/departments/\" class=\"title\">Academic Departments</a>\\n</li>\\n<li>\\n<a href=\"https://www.syracuse.edu/academics/schools-colleges/\" class=\"title\">Schools and Colleges</a>\\n</li>\\n<li>\\n<a href=\"https://www.syracuse.edu/sitemap/\" class=\"title\">Sitemap</a>\\n</li>\\n<li>\\n<a href=\"https://www.syracuse.edu/search/\" class=\"title\">Search</a>\\n</li>\\n</ol>\\n</li>\\n<li>\\n<a href=\"https://www.syracuse.edu/about/contact/\" class=\"top-level\" aria-expanded=\"false\" aria-label=\"Contact section\">Contact</a>\\n<button class=\"drawer-button\">Toggle dropdown</button>\\n<ol>\\n<li>\\n<a href=\"https://www.syracuse.edu/admissions/\" class=\"title\">Admissions</a>\\n</li>\\n<li>\\n<a href=\"https://www.syracuse.edu/admissions/cost-and-aid/contact/\" class=\"title\">Financial Aid</a>\\n</li>\\n<li>\\n<a href=\"https://www.syracuse.edu/about/contact/emergencies/\" class=\"title\">Emergency Contacts</a>\\n</li>\\n<li>\\n<a href=\"https://hr.syr.edu\" class=\"title\">Human Resources</a>\\n</li>\\n<li>\\n<a href=\"https://www.syracuse.edu/about/site/feedback/\" class=\"title\">Website Feedback</a>\\n</li>\\n<li>\\n<a href=\"http://cusecommunity.syr.edu/s/1632/17/form/landing.aspx?sid=1632&gid=2&pgid=383\" class=\"title\">Make a Gift</a>\\n</li>\\n</ol>\\n</li>\\n<li>\\n<a href=\"https://www.syracuse.edu/login/\" class=\"top-level\" aria-expanded=\"false\" aria-label=\"Login section\">Login</a>\\n<button class=\"drawer-button\">Toggle dropdown</button>\\n<ol>\\n<li>\\n<a href=\"https://myslice.ps.syr.edu/\" class=\"title\">MySlice</a>\\n</li>\\n<li>\\n<a href=\"https://blackboard.syracuse.edu/\" class=\"title\">Blackboard</a>\\n</li>\\n<li>\\n<a href=\"https://sumail.syr.edu/\" class=\"title\">Student Email</a>\\n</li>\\n<li>\\n<a href=\"https://exchange.syr.edu/\" class=\"title\">Faculty & Staff Email</a>\\n</li>\\n</ul></nav>\\n\\t\\t\\t\\t</div>\\n\\n\\t\\t\\t\\t<div id=\"footer-main-left\">\\n\\t\\t\\t\\t\\t<div id=\"footer-seal\">\\n\\t\\t\\t\\t\\t\\t<span>\\n\\t\\t\\t\\t\\t\\t\\t<img src=\"https://www.syracuse.edu/wp-content/themes/g6-carbon/img/syracuse-university-seal-white.svg?ver=6.5.17\" width=\"169\" height=\"170\" alt=\"Syracuse University Seal\">\\n\\t\\t\\t\\t\\t\\t</span>\\n\\t\\t\\t\\t\\t</div>\\n\\t\\t\\t\\t\\t<div id=\"footer-address\">\\n\\t\\t\\t\\t\\t\\t<address>Syracuse University <br>900 South Crouse Ave. <br>Syracuse, NY 13244 <br><br>Phone: +1.315.443.1870</address>\\n\\t\\t\\t\\t\\t</div>\\n\\t\\t\\t\\t</div>\\n\\n\\t\\t\\t</div>\\n\\t\\t</div>\\n\\n\\t\\t<div id=\"footer-universal\">\\n\\t\\t\\t<div id=\"footer-universal-inner\">\\n\\n\\t\\t\\t\\t<div id=\"footer-copyright-utility\">\\n\\n\\t\\t\\t\\t\\t<nav id=\"footer-social\" aria-label=\"Social media\">\\n\\t\\t\\t\\t\\t\\t<ul>\\n\\t\\t\\t\\t\\t\\t\\t<li><a class=\"facebook\" href=\"https://www.facebook.com/syracuseuniversity/\">\\n\\t\\t\\t\\t\\t\\t\\t\\t<svg width=\"14\" height=\"26\" aria-labelledby=\"footer-social-facebook\" role=\"img\" xmlns=\"http://www.w3.org/2000/svg\" viewBox=\"0 0 13 24\" enable-background=\"new 0 0 13 24\"><title id=\"footer-social-facebook\">Like Syracuse on Facebook</title><path d=\"M12 3.8H9.8c-1.7 0-2 .8-2 2v2.6h4.1l-.6 4.2H7.8v10.6H3.5V12.6H0V8.5h3.6v-3C3.6 2 5.8 0 8.9 0c1.5 0 2.8.1 3.2.2L12 3.8z\"/></svg>\\n\\t\\t\\t\\t\\t\\t\\t</a></li>\\n\\t\\t\\t\\t\\t\\t\\t<li><a class=\"twitter\" href=\"https://twitter.com/SyracuseU\">\\n\\t\\t\\t\\t\\t\\t\\t\\t<svg width=\"28\" height=\"21\" aria-labelledby=\"footer-social-twitter\" role=\"img\" xmlns=\"http://www.w3.org/2000/svg\" viewBox=\"0 0 24 20\" enable-background=\"new 0 0 24 20\"><title id=\"footer-social-twitter\">Follow Syracuse on Twitter</title><path d=\"M21.3 5.1c0 .2 0 .4 0 .6 0 6.4-4.9 13.8-13.8 13.8-2.8 0-5.3-.8-7.5-2.2.4 0 .8.1 1.2.1 2.3 0 4.4-.8 6-2.1-2.1 0-3.9-1.4-4.5-3.4.3 0 .6.1.9.1.4 0 .9-.1 1.3-.2C2.7 11.3 1 9.4 1 7c0 0 0 0 0-.1.6.4 1.4.6 2.2.6C1.9 6.6 1 5.1 1 3.4c0-.9.2-1.7.7-2.5 2.4 3 6 4.9 10 5.1-.1-.4-.1-.7-.1-1.1 0-2.7 2.2-4.9 4.9-4.9 1.4 0 2.7.6 3.6 1.5 1.1-.2 2.2-.6 3.1-1.2-.4 1.1-1.1 2.1-2.1 2.7 1-.1 1.9-.4 2.8-.8-.8 1.3-1.6 2.2-2.6 2.9z\"/></svg>\\n\\t\\t\\t\\t\\t\\t\\t</a></li>\\n\\t\\t\\t\\t\\t\\t\\t<li><a class=\"youtube\" href=\"https://www.youtube.com/user/Syracuse\">\\n\\t\\t\\t\\t\\t\\t\\t\\t<svg width=\"28\" height=\"18\" aria-labelledby=\"footer-social-youtube\" role=\"img\" xmlns=\"http://www.w3.org/2000/svg\" viewBox=\"0 0 25 18\" enable-background=\"new 0 0 25 18\"><title id=\"footer-social-youtube\">Subscribe to Syracuse on YouTube</title><path d=\"M24.6 15.1c-.3 1.4-1.4 2.4-2.7 2.5-3 .3-6.2.3-9.3.3s-6.3 0-9.3-.3C2 17.5.9 16.4.6 15.1 0 13.2 0 11 0 9s0-4.2.4-6.1C.7 1.5 1.8.5 3.1.4 6.2 0 9.3 0 12.5 0s6.3 0 9.3.3c1.3.1 2.4 1.2 2.7 2.5.5 2 .5 4.2.5 6.2s0 4.2-.4 6.1zm-7.1-6.9l-6.9-4.5c-.4-.2-.7-.2-1 0-.4.1-.6.5-.6.8v9c0 .3.2.7.5.8.1.1.4.1.5.1.2 0 .4 0 .5-.1l7-4.5c.3-.1.5-.5.5-.8s-.1-.5-.5-.8z\"/></svg>\\n\\t\\t\\t\\t\\t\\t\\t</a></li>\\n\\t\\t\\t\\t\\t\\t\\t<li><a class=\"instagram\" href=\"https://www.instagram.com/syracuseu/\">\\n\\t\\t\\t\\t\\t\\t\\t\\t<svg width=\"22\" height=\"22\" aria-labelledby=\"footer-social-instagram\" role=\"img\" xmlns=\"http://www.w3.org/2000/svg\" viewBox=\"0 0 22 22\" enable-background=\"new 0 0 22 22\"><title id=\"footer-social-instagram\">Follow Syracuse on Instagram</title><path d=\"M11 7c-2.2 0-4 1.8-4 4s1.8 4 4 4 4-1.7 4-4-1.8-4-4-4zM21.9 6.5c-.1-1.8-.5-3.3-1.8-4.6S17.3.2 15.5.1C14 0 12.5 0 11 0S8 0 6.5.1C4.7.2 3.1.6 1.8 1.8.6 3.1.2 4.7.1 6.5 0 8 0 9.5 0 11s0 3 .1 4.5c.1 1.8.5 3.3 1.8 4.6 1.3 1.3 2.8 1.7 4.6 1.8 1.5.1 3 .1 4.5.1s3 0 4.5-.1c1.8-.1 3.3-.5 4.6-1.8 1.3-1.3 1.7-2.8 1.8-4.6.1-1.5.1-3 .1-4.5s0-3-.1-4.5zM11 17c-3.3 0-6-2.7-6-6s2.7-6 6-6 6 2.7 6 6-2.7 6-6 6zm6-10.5c-.8 0-1.5-.7-1.5-1.5s.7-1.5 1.5-1.5 1.5.7 1.5 1.5c0 .9-.7 1.5-1.5 1.5z\"/></svg>\\n\\t\\t\\t\\t\\t\\t\\t</a></li>\\n\\t\\t\\t\\t\\t\\t</ul>\\n</nav>\\n\\n\\t\\t\\t\\t\\t<p class=\"copyright\">&copy; <a href=\"/\" aria-label=\"Copyright Syracuse University\">Syracuse University</a>. <em><a class=\"toggle-motto\" href=\"#\" title=\"Toggle English/Latin\">Knowledge crowns those who seek her</a>.</em></p>\\n\\n\\t\\t\\t\\t\\t<nav aria-label=\"Utility links\"><ul class=\"utility\">\\n<li>\\n<a href=\"https://www.syracuse.edu/life/accessibility-diversity/accessible-syracuse/\">Accessibility</a>\\n</li>\\n<li>\\n<a href=\"http://middlestates.syr.edu/?_ga=1.122695753.313684714.1479758891\">Accreditation</a>\\n</li>\\n<li>\\n<a href=\"https://www.syracuse.edu/about/contact/emergencies/\">Emergencies</a>\\n</li>\\n<li>\\n<a href=\"https://www.syracuse.edu/about/site/privacy-policy/\">Privacy</a>\\n</li>\\n</ul></nav>\\n\\t\\t\\t\\t</div>\\n\\t\\t\\t</div>\\n\\t\\t</div>\\n\\n\\t</footer>\\n\\n</div><!-- #page -->\\n\\n<!-- Piwik -->\\n<script type=\"text/javascript\">\\n  var _paq = _paq || [];\\n  /* tracker methods like \"setCustomDimension\" should be called before \"trackPageView\" */\\n  _paq.push([\"setDomains\", [\"*.www.syracuse.edu\"]]);\\n  _paq.push([\"enableCrossDomainLinking\"]);\\n  _paq.push([\\'trackPageView\\']);\\n  _paq.push([\\'enableLinkTracking\\']);\\n  (function() {\\n    var u=\"//syr-piwik-prod.syr.edu/\";\\n    _paq.push([\\'setTrackerUrl\\', u+\\'piwik.php\\']);\\n    _paq.push([\\'setSiteId\\', \\'1\\']);\\n    var d=document, g=d.createElement(\\'script\\'), s=d.getElementsByTagName(\\'script\\')[0];\\n    g.type=\\'text/javascript\\'; g.async=true; g.defer=true; g.src=u+\\'piwik.js\\'; s.parentNode.insertBefore(g,s);\\n  })();\\n</script>\\n<!-- End Piwik Code -->\\n<noscript><p><img src=\"//syr-piwik-prod.syr.edu/piwik.php?idsite=1&rec=1\" style=\"border:0;\" alt=\"\" /></p></noscript>\\n<script type=\\'text/javascript\\' src=\\'https://www.google.com/recaptcha/api.js?render=6LdvTo8UAAAAAOTyucdXrHsAks8qdurjoJX4QgRE&#038;ver=3.0\\'></script>\\n<script type=\\'text/javascript\\' src=\\'//ajax.googleapis.com/ajax/libs/jquery/3.5.1/jquery.min.js?ver=3.5.1\\'></script>\\n<script type=\\'text/javascript\\' src=\\'https://cse.google.com/query_renderer.js?ver=6fab213413fc03dc685376fcc7d81001\\'></script>\\n<script type=\\'text/javascript\\' src=\\'https://cse.google.com/api/004164346848750669847:ikweksae9yu/popularqueryjs?view=overall&#038;callback=%28new+PopularQueryRenderer%28document.getElementById%28%22g6-uni-header-search-queries%22%29%29%29.render&#038;ver=6fab213413fc03dc685376fcc7d81001\\'></script>\\n<script type=\\'text/javascript\\'>\\n/* <![CDATA[ */\\nvar php_vars = {\"isAdmin\":\"\",\"templateUrl\":\"https:\\\\/\\\\/www.syracuse.edu\\\\/wp-content\\\\/themes\\\\/g6-carbon\",\"postSlug\":\"october-22\",\"postID\":\"24355\"};\\n/* ]]> */\\n</script>\\n<script type=\\'text/javascript\\' src=\\'https://www.syracuse.edu/wp-content/themes/g6-carbon/js/carbon-all.js?ver=6.5.17-1565727603651\\'></script>\\n<script type=\\'text/javascript\\' src=\\'https://www.syracuse.edu/wp-includes/js/wp-embed.min.js?ver=6fab213413fc03dc685376fcc7d81001\\'></script>\\n<script type=\"text/javascript\">\\n( function( grecaptcha, sitekey, actions ) {\\n\\n\\tvar wpcf7recaptcha = {\\n\\n\\t\\texecute: function( action ) {\\n\\t\\t\\tgrecaptcha.execute(\\n\\t\\t\\t\\tsitekey,\\n\\t\\t\\t\\t{ action: action }\\n\\t\\t\\t).then( function( token ) {\\n\\t\\t\\t\\tvar forms = document.getElementsByTagName( \\'form\\' );\\n\\n\\t\\t\\t\\tfor ( var i = 0; i < forms.length; i++ ) {\\n\\t\\t\\t\\t\\tvar fields = forms[ i ].getElementsByTagName( \\'input\\' );\\n\\n\\t\\t\\t\\t\\tfor ( var j = 0; j < fields.length; j++ ) {\\n\\t\\t\\t\\t\\t\\tvar field = fields[ j ];\\n\\n\\t\\t\\t\\t\\t\\tif ( \\'g-recaptcha-response\\' === field.getAttribute( \\'name\\' ) ) {\\n\\t\\t\\t\\t\\t\\t\\tfield.setAttribute( \\'value\\', token );\\n\\t\\t\\t\\t\\t\\t\\tbreak;\\n\\t\\t\\t\\t\\t\\t}\\n\\t\\t\\t\\t\\t}\\n\\t\\t\\t\\t}\\n\\t\\t\\t} );\\n\\t\\t},\\n\\n\\t\\texecuteOnHomepage: function() {\\n\\t\\t\\twpcf7recaptcha.execute( actions[ \\'homepage\\' ] );\\n\\t\\t},\\n\\n\\t\\texecuteOnContactform: function() {\\n\\t\\t\\twpcf7recaptcha.execute( actions[ \\'contactform\\' ] );\\n\\t\\t},\\n\\n\\t};\\n\\n\\tgrecaptcha.ready(\\n\\t\\twpcf7recaptcha.executeOnHomepage\\n\\t);\\n\\n\\tdocument.addEventListener( \\'change\\',\\n\\t\\twpcf7recaptcha.executeOnContactform, false\\n\\t);\\n\\n\\tdocument.addEventListener( \\'wpcf7submit\\',\\n\\t\\twpcf7recaptcha.executeOnHomepage, false\\n\\t);\\n\\n} )(\\n\\tgrecaptcha,\\n\\t\\'6LdvTo8UAAAAAOTyucdXrHsAks8qdurjoJX4QgRE\\',\\n\\t{\"homepage\":\"homepage\",\"contactform\":\"contactform\"}\\n);\\n</script>\\n\\n</body>\\n</html>\\n'"
      ]
     },
     "execution_count": 8,
     "metadata": {},
     "output_type": "execute_result"
    }
   ],
   "source": [
    "response.text"
   ]
  },
  {
   "cell_type": "code",
   "execution_count": 10,
   "metadata": {},
   "outputs": [
    {
     "data": {
      "text/plain": [
       "str"
      ]
     },
     "execution_count": 10,
     "metadata": {},
     "output_type": "execute_result"
    }
   ],
   "source": [
    "response = requests.get(\"https://httpbin.org/ip\")\n",
    "if response.ok:\n",
    "    data = response.text\n",
    "    \n",
    "type(data)"
   ]
  },
  {
   "cell_type": "code",
   "execution_count": 11,
   "metadata": {},
   "outputs": [
    {
     "data": {
      "text/plain": [
       "dict"
      ]
     },
     "execution_count": 11,
     "metadata": {},
     "output_type": "execute_result"
    }
   ],
   "source": [
    "import json\n",
    "response = requests.get(\"https://httpbin.org/ip\")\n",
    "if response.ok:\n",
    "    text = response.text\n",
    "    ip = json.loads(text)\n",
    "type(ip)"
   ]
  },
  {
   "cell_type": "code",
   "execution_count": 13,
   "metadata": {},
   "outputs": [
    {
     "data": {
      "text/plain": [
       "'128.230.247.170'"
      ]
     },
     "execution_count": 13,
     "metadata": {},
     "output_type": "execute_result"
    }
   ],
   "source": [
    "ip['origin']"
   ]
  },
  {
   "cell_type": "code",
   "execution_count": 20,
   "metadata": {},
   "outputs": [
    {
     "name": "stdout",
     "output_type": "stream",
     "text": [
      "https://nominatim.openstreetmap.org/search.php?q=Mount+Rushmore&format=jsonv2\n",
      "Mount Rushmore National Memorial, Pennington County, South Dakota, United States of America\n"
     ]
    }
   ],
   "source": [
    "query_string = {\n",
    "    'q' : 'Mount Rushmore',\n",
    "    'format' : 'jsonv2'\n",
    "}\n",
    "\n",
    "url = 'https://nominatim.openstreetmap.org/search.php'\n",
    "response = requests.get(url, params= query_string)\n",
    "print(response.url)\n",
    "locations = response.json()\n",
    "    \n",
    "print(locations[0]['display_name'])"
   ]
  },
  {
   "cell_type": "code",
   "execution_count": 18,
   "metadata": {},
   "outputs": [
    {
     "name": "stdout",
     "output_type": "stream",
     "text": [
      "Help on function get in module requests.api:\n",
      "\n",
      "get(url, params=None, **kwargs)\n",
      "    Sends a GET request.\n",
      "    \n",
      "    :param url: URL for the new :class:`Request` object.\n",
      "    :param params: (optional) Dictionary, list of tuples or bytes to send\n",
      "        in the query string for the :class:`Request`.\n",
      "    :param \\*\\*kwargs: Optional arguments that ``request`` takes.\n",
      "    :return: :class:`Response <Response>` object\n",
      "    :rtype: requests.Response\n",
      "\n"
     ]
    }
   ],
   "source": [
    "help(requests.get, params = query_string)"
   ]
  },
  {
   "cell_type": "code",
   "execution_count": 30,
   "metadata": {},
   "outputs": [
    {
     "name": "stdout",
     "output_type": "stream",
     "text": [
      "Enter a location: Syracuse, NY\n",
      "https://nominatim.openstreetmap.org/sssssearch.php?q=Syracuse%2C+NY&format=jsonv2\n"
     ]
    }
   ],
   "source": [
    "search = input(\"Enter a location: \")\n",
    "query_string = {\n",
    "    'q' : search,\n",
    "    'format' : 'jsonv2'\n",
    "}\n",
    "\n",
    "url = 'https://nominatim.openstreetmap.org/sssssearch.php'\n",
    "response = requests.get(url, params= query_string)\n",
    "print(response.url)\n",
    "if response.ok:\n",
    "    locations = response.json()\n",
    "    \n",
    "    print(locations[0]['display_name'])\n",
    "    print(locations[0]['lat'])\n",
    "    print(locations[0]['lon'])\n"
   ]
  },
  {
   "cell_type": "code",
   "execution_count": 29,
   "metadata": {},
   "outputs": [
    {
     "data": {
      "text/plain": [
       "404"
      ]
     },
     "execution_count": 29,
     "metadata": {},
     "output_type": "execute_result"
    }
   ],
   "source": [
    "response.status_code"
   ]
  },
  {
   "cell_type": "code",
   "execution_count": 23,
   "metadata": {},
   "outputs": [
    {
     "data": {
      "text/plain": [
       "{'place_id': 156286635,\n",
       " 'licence': 'Data © OpenStreetMap contributors, ODbL 1.0. https://osm.org/copyright',\n",
       " 'osm_type': 'way',\n",
       " 'osm_id': 297428432,\n",
       " 'boundingbox': ['28.4148969', '28.4232773', '-81.5869975', '-81.5758593'],\n",
       " 'lat': '28.4190753',\n",
       " 'lon': '-81.58171584246976',\n",
       " 'display_name': 'Magic Kingdom, 1180, Seven Seas Drive, Bay Lake, Reedy Creek Improvement District, Orange County, Florida, 32830, United States of America',\n",
       " 'place_rank': 30,\n",
       " 'category': 'tourism',\n",
       " 'type': 'theme_park',\n",
       " 'importance': 0.6847977055177046,\n",
       " 'icon': 'https://nominatim.openstreetmap.org/images/mapicons/poi_point_of_interest.p.20.png'}"
      ]
     },
     "execution_count": 23,
     "metadata": {},
     "output_type": "execute_result"
    }
   ],
   "source": [
    "locations[0]"
   ]
  },
  {
   "cell_type": "code",
   "execution_count": 32,
   "metadata": {},
   "outputs": [
    {
     "name": "stdout",
     "output_type": "stream",
     "text": [
      "Enter a location: Syracuse, NY\n",
      "https://nominatim.openstreetmap.org/search.php?q=Syracuse%2C+NY&format=jsonv2\n",
      "Syracuse, Onondaga County, New York, United States of America\n",
      "43.0481221\n",
      "-76.1474244\n"
     ]
    }
   ],
   "source": [
    "search = input(\"Enter a location: \")\n",
    "query_string = {\n",
    "    'q' : search,\n",
    "    'format' : 'jsonv2'\n",
    "}\n",
    "\n",
    "url = 'https://nominatim.openstreetmap.org/search.php'\n",
    "response = requests.get(url, params= query_string)\n",
    "print(response.url)\n",
    "if response.ok:\n",
    "    locations = response.json()\n",
    "    \n",
    "    print(locations[0]['display_name'])\n",
    "    print(locations[0]['lat'])\n",
    "    print(locations[0]['lon'])\n",
    "else:\n",
    "    print(response.status_code, response.text)"
   ]
  },
  {
   "cell_type": "code",
   "execution_count": 47,
   "metadata": {},
   "outputs": [
    {
     "name": "stdout",
     "output_type": "stream",
     "text": [
      "43.0481221 -76.1474244\n"
     ]
    }
   ],
   "source": [
    "def geocode(search):\n",
    "    query_string = {\n",
    "        'q' : search,\n",
    "        'format' : 'jsonv2'\n",
    "    }\n",
    "\n",
    "    url = 'https://nominatim.openstreetmap.org/search.php'\n",
    "    response = requests.get(url, params= query_string)\n",
    "    #print(response.url)\n",
    "    if response.ok:\n",
    "        locations = response.json()\n",
    "        return locations[0]['lat'], locations[0]['lon']\n",
    "    \n",
    "lat, lon = geocode(\"Syracuse, NY\")\n",
    "print(lat,lon)"
   ]
  },
  {
   "cell_type": "code",
   "execution_count": 48,
   "metadata": {},
   "outputs": [
    {
     "name": "stdout",
     "output_type": "stream",
     "text": [
      "47.21\n"
     ]
    }
   ],
   "source": [
    "def get_weather(lat,lon):\n",
    "    weather_api_key = '9ddd2c967ea2b9ee7e77eb60012a9dc5'\n",
    "    query_string = {\n",
    "        'lat' : lat,\n",
    "        'lon' : lon, \n",
    "        'appid' : weather_api_key,\n",
    "        'units' : 'imperial'\n",
    "    }\n",
    "    url = 'https://api.openweathermap.org/data/2.5/weather'\n",
    "    response = requests.get(url, params = query_string)\n",
    "    #print(response.url)\n",
    "    if response.ok:\n",
    "        weather = response.json()\n",
    "        temp = weather['main']['temp']\n",
    "        \n",
    "        return temp\n",
    "    \n",
    "temp = get_weather(43.0481221, -76.1474244)\n",
    "print(temp)\n"
   ]
  },
  {
   "cell_type": "code",
   "execution_count": 49,
   "metadata": {},
   "outputs": [
    {
     "name": "stdout",
     "output_type": "stream",
     "text": [
      "Enter location, or type quit: Scranton, PA\n",
      "In Scranton, PA is it currently 55.58 degrees F.\n",
      "Enter location, or type quit: San Francisco, CA\n",
      "In San Francisco, CA is it currently 33.06 degrees F.\n",
      "Enter location, or type quit: Mount Rushmore\n",
      "In Mount Rushmore is it currently 23.36 degrees F.\n",
      "Enter location, or type quit: Magic Kingdom\n",
      "In Magic Kingdom is it currently 83.98 degrees F.\n",
      "Enter location, or type quit: Carrier Dome\n",
      "In Carrier Dome is it currently 47.28 degrees F.\n",
      "Enter location, or type quit: quit\n"
     ]
    }
   ],
   "source": [
    "while True:\n",
    "    location = input(\"Enter location, or type quit: \")\n",
    "    if location == 'quit':\n",
    "        break\n",
    "    lat, lon = geocode(location)\n",
    "    temp = get_weather(lat, lon)\n",
    "    print(f\"In {location} is it currently {temp} degrees F.\")"
   ]
  },
  {
   "cell_type": "code",
   "execution_count": null,
   "metadata": {},
   "outputs": [],
   "source": []
  }
 ],
 "metadata": {
  "kernelspec": {
   "display_name": "Python 3",
   "language": "python",
   "name": "python3"
  },
  "language_info": {
   "codemirror_mode": {
    "name": "ipython",
    "version": 3
   },
   "file_extension": ".py",
   "mimetype": "text/x-python",
   "name": "python",
   "nbconvert_exporter": "python",
   "pygments_lexer": "ipython3",
   "version": "3.7.6"
  }
 },
 "nbformat": 4,
 "nbformat_minor": 4
}
